{
 "cells": [
  {
   "cell_type": "code",
   "execution_count": 7,
   "id": "ebcc8c1a-17b2-4c81-85b4-e37abdb9cb4f",
   "metadata": {},
   "outputs": [],
   "source": [
    "import pandas as pd\n",
    "import numpy as np\n",
    "import matplotlib.pyplot as plt\n",
    "import datetime as dt\n",
    "from matplotlib.pyplot import figure\n",
    "import matplotlib as mpl\n",
    "\n",
    "#Visualization\n",
    "import seaborn as sns\n",
    "\n",
    "#Preprocessing\n",
    "from sklearn.model_selection import train_test_split\n",
    "\n",
    "#Model Building\n",
    "from sklearn.tree import DecisionTreeRegressor # to build regression tree\n",
    "import pmdarima as pmd\n",
    "\n",
    "#Tree Plotting\n",
    "from sklearn import tree\n",
    "from sklearn.tree import plot_tree # to draw the tree\n",
    "\n",
    "#Accuracy Validation\n",
    "from sklearn import metrics\n",
    "from sklearn.metrics import explained_variance_score\n",
    "from sklearn.metrics import max_error\n",
    "from sklearn.model_selection import cross_val_score\n",
    "from sklearn.model_selection import GridSearchCV\n",
    "from sklearn.model_selection import RepeatedKFold\n",
    "\n",
    "import multiprocessing"
   ]
  },
  {
   "cell_type": "markdown",
   "id": "3bf8f587-a426-4d5d-a6f0-08963636876a",
   "metadata": {},
   "source": [
    "## Bitcoin"
   ]
  },
  {
   "cell_type": "markdown",
   "id": "e86c6954-09a3-4cbd-947b-40cacccedd34",
   "metadata": {},
   "source": [
    "### Loading Data"
   ]
  },
  {
   "cell_type": "code",
   "execution_count": 8,
   "id": "8f546dd6-45b8-4b40-b93c-ff52df593204",
   "metadata": {},
   "outputs": [
    {
     "data": {
      "text/plain": [
       "Symbol       0\n",
       "Date         0\n",
       "High         0\n",
       "Low          0\n",
       "Open         0\n",
       "Close        0\n",
       "Volume       0\n",
       "Marketcap    0\n",
       "dtype: int64"
      ]
     },
     "execution_count": 8,
     "metadata": {},
     "output_type": "execute_result"
    }
   ],
   "source": [
    "Bitcoin = pd.read_csv(\"coin_Bitcoin.csv\",parse_dates=['Date'])\n",
    "Bitcoin = Bitcoin.drop(columns=['SNo','Name'])\n",
    "\n",
    "Bitcoin.isnull().sum()"
   ]
  },
  {
   "cell_type": "markdown",
   "id": "88a87741-9d86-4e4e-a3f7-e2b530df93e1",
   "metadata": {},
   "source": [
    "### Data Preparation"
   ]
  },
  {
   "cell_type": "code",
   "execution_count": 9,
   "id": "d374ba05-e678-4b30-9489-25cc9da8ef23",
   "metadata": {},
   "outputs": [],
   "source": [
    "data_week = [0 for i in range(7)]\n",
    "closes = Bitcoin['Close'].values\n",
    "\n",
    "for i in closes[:-7]:\n",
    "    data_week.append(i)"
   ]
  },
  {
   "cell_type": "markdown",
   "id": "8c468596-0fcf-4447-824f-25ef13cc0ff5",
   "metadata": {},
   "source": [
    "#### Three Week Average Calculation"
   ]
  },
  {
   "cell_type": "code",
   "execution_count": 10,
   "id": "1de18200-cc07-41e1-912a-5a1373fe4388",
   "metadata": {},
   "outputs": [],
   "source": [
    "three_avg = [0,0,0]\n",
    "for i in range(len(closes)-3):\n",
    "    three_avg.append((closes[i] + closes[i+1] + closes[i+2])/3)\n",
    "#print(len(three_avg))\n",
    "#print(len(closes))\n",
    "Bitcoin[\"Three_day_Avg\"] = three_avg"
   ]
  },
  {
   "cell_type": "code",
   "execution_count": 11,
   "id": "9ffc3a60-5276-401d-8d1a-93e28996a0aa",
   "metadata": {},
   "outputs": [
    {
     "data": {
      "text/plain": [
       "[<matplotlib.lines.Line2D at 0x7fa0545917f0>]"
      ]
     },
     "execution_count": 11,
     "metadata": {},
     "output_type": "execute_result"
    },
    {
     "data": {
      "image/png": "[encoded data removed]",
      "text/plain": [
       "<Figure size 432x288 with 1 Axes>"
      ]
     },
     "metadata": {
      "needs_background": "light"
     },
     "output_type": "display_data"
    }
   ],
   "source": [
    "plt.plot(Bitcoin['Date'] , closes)\n",
    "plt.plot(Bitcoin['Date'] , three_avg)\n",
    "plt.plot(Bitcoin['Date'] , data_week)"
   ]
  },
  {
   "cell_type": "code",
   "execution_count": 12,
   "id": "fc136461-5e4e-4894-980f-bcaa0f0dfe2f",
   "metadata": {},
   "outputs": [],
   "source": [
    "Bitcoin[\"Date\"] = Bitcoin[\"Date\"].dt.strftime('%Y-%m-%d')\n",
    "Bitcoin[\"Date\"]=pd.to_datetime(Bitcoin[\"Date\"])"
   ]
  },
  {
   "cell_type": "code",
   "execution_count": 13,
   "id": "a0312932-0886-4af1-9b0b-480e3b834c9d",
   "metadata": {},
   "outputs": [],
   "source": [
    "Bitcoin['Day'] = Bitcoin['Date'].dt.day_name() "
   ]
  },
  {
   "cell_type": "markdown",
   "id": "c34bbd11-eca8-486c-939f-66e569497b8c",
   "metadata": {},
   "source": [
    "#### Week Average Calculation"
   ]
  },
  {
   "cell_type": "code",
   "execution_count": 14,
   "id": "9a278871-a15f-4e6c-9c64-1f22afa1eb67",
   "metadata": {},
   "outputs": [
    {
     "name": "stdout",
     "output_type": "stream",
     "text": [
      "[]\n"
     ]
    }
   ],
   "source": [
    "day = Bitcoin['Day'].values\n",
    "\n",
    "i = 0 \n",
    "Sum = 0\n",
    "while day[i] !='Monday':\n",
    "    Sum+=closes[i]\n",
    "    i+=1\n",
    "WeekAvg = [ Sum/(i) for j in range(i)]\n",
    "print(WeekAvg)\n",
    "for j in range(i , len(closes)-7, 7):\n",
    "    Avg = sum(closes[j : j +7])/7\n",
    "    curr = [Avg for i in range(7)]\n",
    "    WeekAvg+=curr\n",
    "for j in range( len(WeekAvg) , len(closes)):\n",
    "    WeekAvg.append(closes[i])\n",
    "Bitcoin[\"Week_Avg\"] = WeekAvg"
   ]
  },
  {
   "cell_type": "markdown",
   "id": "21df4b9f-ac37-4d42-8353-d39a7514bb09",
   "metadata": {},
   "source": [
    "#### Month Average Calculation"
   ]
  },
  {
   "cell_type": "code",
   "execution_count": 15,
   "id": "6bb20b14-87ba-41d4-842d-3dad0284fa04",
   "metadata": {},
   "outputs": [],
   "source": [
    "Bitcoin['Month'] = Bitcoin['Date'].dt.month"
   ]
  },
  {
   "cell_type": "code",
   "execution_count": 16,
   "id": "8703c55f-7819-45c5-9a8e-f14aad0ddc80",
   "metadata": {},
   "outputs": [],
   "source": [
    "month = Bitcoin['Month'].values\n",
    "monthavg = []\n",
    "Sum = closes[0]\n",
    "n = 1\n",
    "for i in range(1 , len(month)):\n",
    "    if month[i] != month[i-1]:\n",
    "        curr = [Sum/n for j in range(n)]\n",
    "        monthavg+=curr\n",
    "        Sum = 0\n",
    "        n=0\n",
    "   \n",
    "    Sum+=closes[i]\n",
    "    n+=1\n",
    "\n",
    "curr = [Sum/n for j in range(n)]\n",
    "monthavg+=curr\n",
    "\n",
    "\n",
    "Bitcoin['Month_Avg'] = monthavg"
   ]
  },
  {
   "cell_type": "code",
   "execution_count": 17,
   "id": "23ffaa95-44a5-49c7-a070-1743e38083a6",
   "metadata": {},
   "outputs": [],
   "source": [
    "Bitcoin['Year'] = Bitcoin[\"Date\"].dt.year\n",
    "Bitcoin['Month'] = Bitcoin[\"Date\"].dt.month\n",
    "Bitcoin['Day'] = Bitcoin[\"Date\"].dt.day"
   ]
  },
  {
   "cell_type": "code",
   "execution_count": 18,
   "id": "da4747d9-e5b8-4749-b78f-daf1cf3d2435",
   "metadata": {},
   "outputs": [
    {
     "data": {
      "text/plain": [
       "<AxesSubplot:title={'center':'Mean Bitcoin Closing Price'}, xlabel='Date'>"
      ]
     },
     "execution_count": 18,
     "metadata": {},
     "output_type": "execute_result"
    },
    {
     "data": {
      "image/png": "[encoded data removed]",
      "text/plain": [
       "<Figure size 576x360 with 1 Axes>"
      ]
     },
     "metadata": {
      "needs_background": "light"
     },
     "output_type": "display_data"
    }
   ],
   "source": [
    "df_grouped = Bitcoin.groupby([\"Date\"])['Close'].mean()\n",
    "df_grouped.plot(figsize = (8,5) , title = \"Mean Bitcoin Closing Price\")"
   ]
  },
  {
   "cell_type": "code",
   "execution_count": 19,
   "id": "3b621140-9b05-45c6-8fde-b396f1768c08",
   "metadata": {},
   "outputs": [
    {
     "data": {
      "text/plain": [
       "<AxesSubplot:title={'center':'Mean Bitcoin Closing Price'}, xlabel='Year'>"
      ]
     },
     "execution_count": 19,
     "metadata": {},
     "output_type": "execute_result"
    },
    {
     "data": {
      "image/png": "[encoded data removed]",
      "text/plain": [
       "<Figure size 576x360 with 1 Axes>"
      ]
     },
     "metadata": {
      "needs_background": "light"
     },
     "output_type": "display_data"
    }
   ],
   "source": [
    "df_year = Bitcoin.groupby(['Year'])['Close'].mean()\n",
    "df_year.plot.bar(figsize = (8,5),title = \"Mean Bitcoin Closing Price\")"
   ]
  },
  {
   "cell_type": "markdown",
   "id": "506200d4-54a0-4eb3-acaa-e315b2eb4a4b",
   "metadata": {},
   "source": [
    "#### Training/Testing Data Split"
   ]
  },
  {
   "cell_type": "code",
   "execution_count": 20,
   "id": "9ac7c568-b933-4e8b-93db-6fc8c9496875",
   "metadata": {},
   "outputs": [],
   "source": [
    "X= Bitcoin.drop(columns=['Close','Open','High','Low','Symbol','Volume','Marketcap','Date'])\n",
    "y= Bitcoin['Close']"
   ]
  },
  {
   "cell_type": "code",
   "execution_count": 21,
   "id": "1070548b-7bdf-4b6c-9e3d-09bb7e3d07af",
   "metadata": {},
   "outputs": [],
   "source": [
    "from sklearn.model_selection import train_test_split\n",
    "\n",
    "X_train, X_test, y_train, y_test = train_test_split(X, y, test_size = 0.33, random_state = 42)"
   ]
  },
  {
   "cell_type": "markdown",
   "id": "66c00e3f-ce2d-4f36-9f8f-91bcba2b461e",
   "metadata": {},
   "source": [
    "### Regression"
   ]
  },
  {
   "cell_type": "markdown",
   "id": "f16dc743-377e-406a-9b4e-2b0d92dfaa47",
   "metadata": {},
   "source": [
    "#### Decision Tree Regression"
   ]
  },
  {
   "cell_type": "code",
   "execution_count": 22,
   "id": "49581b33-2c5a-4593-939e-f98f94ddb61c",
   "metadata": {},
   "outputs": [
    {
     "name": "stdout",
     "output_type": "stream",
     "text": [
      "MSE: 468.22600524814226\n",
      "R Squared: 0.9983326294315676\n"
     ]
    }
   ],
   "source": [
    "from sklearn.tree import DecisionTreeRegressor\n",
    "\n",
    "tree_reg = DecisionTreeRegressor(min_samples_leaf=5,random_state=42)\n",
    "tree_reg.fit(X_train, y_train)\n",
    "\n",
    "y_train_pred = tree_reg.predict(X_train)\n",
    "\n",
    "print(\"MSE:\", metrics.mean_squared_error(y_train, y_train_pred, squared=False))\n",
    "print(\"R Squared:\", metrics.r2_score(y_train, y_train_pred))"
   ]
  },
  {
   "cell_type": "code",
   "execution_count": 23,
   "id": "69e0ce52-3036-41ea-821a-38e1172d7773",
   "metadata": {},
   "outputs": [
    {
     "name": "stdout",
     "output_type": "stream",
     "text": [
      "Best model: {'max_depth': 7, 'min_samples_leaf': 2, 'min_samples_split': 2, 'splitter': 'best'}\n",
      "Best score: 0.996424\n",
      "Best test auc: 0.996810\n"
     ]
    }
   ],
   "source": [
    "param_grid = {\n",
    "    'splitter': ['best','random'],\n",
    "    'max_depth': [1,2,3,4,5,6,7,8,9],\n",
    "    'min_samples_split': [2,3,4,5,6],\n",
    "    'min_samples_leaf': [1,2,3,4,5,6]\n",
    "}\n",
    "dtr_gs = GridSearchCV(estimator=DecisionTreeRegressor() , param_grid=param_grid)\n",
    "\n",
    "dtr_gs.fit(X_train, y_train)\n",
    "\n",
    "dtr_gs_best = dtr_gs.best_estimator_\n",
    "dtr_gs_best.fit(X_train,y_train)\n",
    "\n",
    "print('Best model: %s' % str(dtr_gs.best_params_))\n",
    "print('Best score: %f' % dtr_gs.best_score_)\n",
    "print('Best test auc: %f' % dtr_gs_best.score(X_test,y_test))"
   ]
  },
  {
   "cell_type": "code",
   "execution_count": 24,
   "id": "d303bdff-b527-444e-b6a5-f7495d57848c",
   "metadata": {},
   "outputs": [
    {
     "name": "stdout",
     "output_type": "stream",
     "text": [
      "MSE: 664.7924695072426\n",
      "R Squared: 0.996308117416549\n",
      "RMSE: 25.78356975880653\n"
     ]
    }
   ],
   "source": [
    "import math\n",
    "\n",
    "tree_reg = DecisionTreeRegressor(max_depth = 16, min_samples_leaf = 2, min_samples_split = 4, splitter = 'best')\n",
    "tree_reg.fit(X_train, y_train)\n",
    "\n",
    "y_test_pred = tree_reg.predict(X_test)\n",
    "\n",
    "MSE = metrics.mean_squared_error(y_test, y_test_pred, squared=False)\n",
    "\n",
    "RSquared = metrics.r2_score(y_test, y_test_pred)\n",
    "\n",
    "RMSE = math.sqrt(MSE)\n",
    "\n",
    "print(\"MSE:\",MSE)\n",
    "print(\"R Squared:\",RSquared)\n",
    "print(\"RMSE:\",RMSE)"
   ]
  },
  {
   "cell_type": "code",
   "execution_count": 25,
   "id": "63470fe1-4d82-422a-8706-bb4954fc3e33",
   "metadata": {},
   "outputs": [
    {
     "data": {
      "text/plain": [
       "<matplotlib.legend.Legend at 0x7fa060819af0>"
      ]
     },
     "execution_count": 25,
     "metadata": {},
     "output_type": "execute_result"
    },
    {
     "data": {
      "image/png": "[encoded data removed]",
      "text/plain": [
       "<Figure size 432x432 with 1 Axes>"
      ]
     },
     "metadata": {
      "needs_background": "light"
     },
     "output_type": "display_data"
    }
   ],
   "source": [
    "fig, ax = plt.subplots(figsize=(6, 6))\n",
    "\n",
    "mpl.rcParams['font.size'] = 9\n",
    "mpl.rcParams['axes.linewidth'] = 0\n",
    "\n",
    "ax.scatter(y_train_pred,y_train,color='blue', s=6, label = \"Train\")\n",
    "\n",
    "ax.scatter(y_test_pred,y_test,color='red', s=6, label = \"Test\")\n",
    "\n",
    "\n",
    "ax.set_xlabel(\"Predicted Values\", fontsize=10)\n",
    "ax.set_ylabel(\"True Values\", fontsize=10)\n",
    "ax.legend()"
   ]
  },
  {
   "cell_type": "markdown",
   "id": "72f0f5cd-8c6f-47c3-a025-8d5e8a4389d3",
   "metadata": {},
   "source": [
    "#### Linear Regression"
   ]
  },
  {
   "cell_type": "code",
   "execution_count": 26,
   "id": "ae6da27c-fdfd-4ae0-b633-cd53f63a36f9",
   "metadata": {},
   "outputs": [
    {
     "name": "stdout",
     "output_type": "stream",
     "text": [
      "MSE: 610.3487724695236\n",
      "R Squared: 0.9968880554595271\n",
      "RMSE: 24.705237753754236\n"
     ]
    }
   ],
   "source": [
    "from sklearn.linear_model import LinearRegression\n",
    "\n",
    "linear_reg = LinearRegression()\n",
    "linear_reg.fit(X_train, y_train)\n",
    "\n",
    "y_train_pred = linear_reg.predict(X_train)\n",
    "y_test_pred = linear_reg.predict(X_test)\n",
    "\n",
    "MSE = metrics.mean_squared_error(y_test, y_test_pred, squared=False)\n",
    "\n",
    "RSquared = metrics.r2_score(y_test, y_test_pred)\n",
    "\n",
    "RMSE = math.sqrt(MSE)\n",
    "\n",
    "print(\"MSE:\",MSE)\n",
    "print(\"R Squared:\",RSquared)\n",
    "print(\"RMSE:\",RMSE)"
   ]
  },
  {
   "cell_type": "code",
   "execution_count": 27,
   "id": "d95d8c2e-544b-4e07-9847-3ac630e0ba20",
   "metadata": {},
   "outputs": [
    {
     "data": {
      "text/plain": [
       "<matplotlib.legend.Legend at 0x7fa054821a60>"
      ]
     },
     "execution_count": 27,
     "metadata": {},
     "output_type": "execute_result"
    },
    {
     "data": {
      "image/png": "[encoded data removed]",
      "text/plain": [
       "<Figure size 432x432 with 1 Axes>"
      ]
     },
     "metadata": {
      "needs_background": "light"
     },
     "output_type": "display_data"
    }
   ],
   "source": [
    "fig, ax = plt.subplots(figsize=(6, 6))\n",
    "\n",
    "#mpl.rcParams['font.size'] = 5\n",
    "mpl.rcParams['axes.linewidth'] = 0\n",
    "\n",
    "ax.scatter(y_train_pred,y_train,color='blue', s=6, label = \"Train\")\n",
    "\n",
    "ax.scatter(y_test_pred,y_test,color='red', s=6, label = \"Test\")\n",
    "\n",
    "\n",
    "ax.set_xlabel(\"Predicted Values\", fontsize=10)\n",
    "ax.set_ylabel(\"True Values\", fontsize=10)\n",
    "ax.legend()"
   ]
  },
  {
   "cell_type": "markdown",
   "id": "a5f374f2-4248-47fa-a2a8-bc91d915b17d",
   "metadata": {},
   "source": [
    "#### Bayesian Ridge"
   ]
  },
  {
   "cell_type": "code",
   "execution_count": 28,
   "id": "91c6efeb-29aa-48a9-957f-8db139f22287",
   "metadata": {},
   "outputs": [
    {
     "name": "stdout",
     "output_type": "stream",
     "text": [
      "MSE: 610.4566509049464\n",
      "R Squared: 0.9968869552971557\n",
      "RMSE: 24.707420968303154\n"
     ]
    }
   ],
   "source": [
    "from sklearn.linear_model  import BayesianRidge\n",
    "\n",
    "br_reg = BayesianRidge()\n",
    "\n",
    "br_reg .fit(X_train, y_train)\n",
    "\n",
    "y_train_pred = br_reg.predict(X_train)\n",
    "y_test_pred = br_reg.predict(X_test)\n",
    "\n",
    "MSE = metrics.mean_squared_error(y_test, y_test_pred, squared=False)\n",
    "\n",
    "RSquared = metrics.r2_score(y_test, y_test_pred)\n",
    "\n",
    "RMSE = math.sqrt(MSE)\n",
    "\n",
    "print(\"MSE:\",MSE)\n",
    "print(\"R Squared:\",RSquared)\n",
    "print(\"RMSE:\",RMSE)"
   ]
  },
  {
   "cell_type": "code",
   "execution_count": 29,
   "id": "984f5b12-9356-450f-a880-2ec321a2e662",
   "metadata": {},
   "outputs": [
    {
     "data": {
      "text/plain": [
       "<matplotlib.legend.Legend at 0x7fa0720ab3d0>"
      ]
     },
     "execution_count": 29,
     "metadata": {},
     "output_type": "execute_result"
    },
    {
     "data": {
      "image/png": "[encoded data removed]",
      "text/plain": [
       "<Figure size 432x432 with 1 Axes>"
      ]
     },
     "metadata": {
      "needs_background": "light"
     },
     "output_type": "display_data"
    }
   ],
   "source": [
    "fig, ax = plt.subplots(figsize=(6, 6))\n",
    "\n",
    "#mpl.rcParams['font.size'] = 5\n",
    "mpl.rcParams['axes.linewidth'] = 0\n",
    "\n",
    "ax.scatter(y_train_pred,y_train,color='blue', s=6, label = \"Train\")\n",
    "\n",
    "ax.scatter(y_test_pred,y_test,color='red', s=6, label = \"Test\")\n",
    "\n",
    "\n",
    "ax.set_xlabel(\"Predicted Values\", fontsize=10)\n",
    "ax.set_ylabel(\"True Values\", fontsize=10)\n",
    "ax.legend()"
   ]
  },
  {
   "cell_type": "markdown",
   "id": "eee9038e-a101-4795-b2cc-62af7d703f03",
   "metadata": {},
   "source": [
    "### Bitcoin Time Series (ARIMA)"
   ]
  },
  {
   "cell_type": "code",
   "execution_count": 30,
   "id": "8870dfe0-0fc8-4f3f-ac56-6556b93584c7",
   "metadata": {},
   "outputs": [
    {
     "data": {
      "text/plain": [
       "[<matplotlib.lines.Line2D at 0x7fa0548652b0>]"
      ]
     },
     "execution_count": 30,
     "metadata": {},
     "output_type": "execute_result"
    },
    {
     "data": {
      "image/png": "[encoded data removed]",
      "text/plain": [
       "<Figure size 432x288 with 1 Axes>"
      ]
     },
     "metadata": {
      "needs_background": "light"
     },
     "output_type": "display_data"
    }
   ],
   "source": [
    "rollmean = Bitcoin[\"Close\"].rolling(10).mean()\n",
    "plt.plot(rollmean)\n",
    "\n",
    "plt.plot(Bitcoin[\"Close\"])\n",
    "\n",
    "plt.plot(Bitcoin[\"Close\"].rolling(10).std()) #not stationary "
   ]
  },
  {
   "cell_type": "code",
   "execution_count": 31,
   "id": "35cb432a-20cd-4d31-951a-0da98a65999a",
   "metadata": {},
   "outputs": [
    {
     "data": {
      "text/plain": [
       "(2991,)"
      ]
     },
     "execution_count": 31,
     "metadata": {},
     "output_type": "execute_result"
    }
   ],
   "source": [
    "Close_scaled = Bitcoin['Close']\n",
    "\n",
    "Close_scaled = Close_scaled.arrays\n",
    "Close_scaled.shape"
   ]
  },
  {
   "cell_type": "code",
   "execution_count": 32,
   "id": "875035e6-bba4-4050-ba38-8eeddf185e31",
   "metadata": {},
   "outputs": [],
   "source": [
    "Close_scaled = Close_scaled.reshape(-1,1)"
   ]
  },
  {
   "cell_type": "code",
   "execution_count": 33,
   "id": "bc3428ed-c907-4cda-b60e-6102ae9cb1ca",
   "metadata": {},
   "outputs": [],
   "source": [
    "from sklearn.preprocessing import MinMaxScaler\n",
    "\n",
    "scaler = MinMaxScaler().fit(Close_scaled)\n",
    "\n",
    "Close_scaled = scaler.transform(Close_scaled)\n",
    "\n",
    "Close_scaled = Close_scaled.reshape(2991,)"
   ]
  },
  {
   "cell_type": "code",
   "execution_count": 34,
   "id": "f9541840-6644-47b7-b235-d0e03a50cbb5",
   "metadata": {},
   "outputs": [],
   "source": [
    "Close_scaled = pd.Series(Close_scaled)\n",
    "Bitcoin['Close_scaled'] = Close_scaled"
   ]
  },
  {
   "cell_type": "code",
   "execution_count": 35,
   "id": "ae2580d1-1627-42f2-9698-de886b2a5a60",
   "metadata": {},
   "outputs": [
    {
     "name": "stdout",
     "output_type": "stream",
     "text": [
      "24\n",
      "2967\n"
     ]
    },
    {
     "data": {
      "text/plain": [
       "Date\n",
       "2013-04-29    0.001200\n",
       "2013-04-30    0.001112\n",
       "2013-05-01    0.000765\n",
       "2013-05-02    0.000580\n",
       "2013-05-03    0.000462\n",
       "                ...   \n",
       "2021-06-08    0.526589\n",
       "2021-06-09    0.587636\n",
       "2021-06-10    0.577507\n",
       "2021-06-11    0.587467\n",
       "2021-06-12    0.559377\n",
       "Name: Close_scaled, Length: 2967, dtype: float64"
      ]
     },
     "execution_count": 35,
     "metadata": {},
     "output_type": "execute_result"
    }
   ],
   "source": [
    "Data_Arima = Bitcoin.set_index('Date')\n",
    "closeTrain = Data_Arima['Close_scaled'][:-24]\n",
    "closeTest = Data_Arima['Close_scaled'][-24:]\n",
    "print(len(closeTest))\n",
    "print(len(closeTrain))\n",
    "\n",
    "closeTrain"
   ]
  },
  {
   "cell_type": "code",
   "execution_count": 36,
   "id": "757080f0-42d6-47b8-be60-9e51f9b7b58b",
   "metadata": {},
   "outputs": [
    {
     "data": {
      "text/plain": [
       "(0.7664133686043878, True)"
      ]
     },
     "execution_count": 36,
     "metadata": {},
     "output_type": "execute_result"
    }
   ],
   "source": [
    "adf = pmd.arima.ADFTest(alpha = 0.05)\n",
    "adf.should_diff(Data_Arima['Close'])\n",
    "#data is already station"
   ]
  },
  {
   "cell_type": "code",
   "execution_count": 37,
   "id": "4a595a56-4dd8-4013-8671-4b34595fcc3f",
   "metadata": {},
   "outputs": [
    {
     "name": "stdout",
     "output_type": "stream",
     "text": [
      "24\n"
     ]
    }
   ],
   "source": [
    "#model = pmd.arima.auto_arima(closeTrain, start_p=0, d=1, start_q=0, max_p=5, max_d=5, max_q=5, start_P=0, D=1, start_Q=0, max_P=5,max_D=5, max_Q=5, m=12, seasonal=True, error_action='warn', trace=True, supress_warnings=True,stepwise=True,random_state=20,n_fits=50)\n",
    "model = pmd.arima.auto_arima(closeTrain, error_action='ignore', seasonal = True)\n",
    "model.fit(closeTrain)\n",
    "y_pred = model.predict(n_periods = len(closeTest))\n",
    "print(len(y_pred))\n",
    "Y_pred = pd.DataFrame(y_pred , index = closeTest.index , columns = [\"Pred\"])                          "
   ]
  },
  {
   "cell_type": "code",
   "execution_count": 38,
   "id": "f1ff50b3-73f4-4f24-b4cc-7652988c2bec",
   "metadata": {},
   "outputs": [
    {
     "data": {
      "text/plain": [
       "<matplotlib.legend.Legend at 0x7fa0706b7760>"
      ]
     },
     "execution_count": 38,
     "metadata": {},
     "output_type": "execute_result"
    },
    {
     "data": {
      "text/plain": [
       "<Figure size 432x288 with 0 Axes>"
      ]
     },
     "metadata": {},
     "output_type": "display_data"
    },
    {
     "data": {
      "image/png": "[encoded data removed]",
      "text/plain": [
       "<Figure size 576x360 with 1 Axes>"
      ]
     },
     "metadata": {
      "needs_background": "light"
     },
     "output_type": "display_data"
    }
   ],
   "source": [
    "fig = plt.figure()\n",
    "fig, ax = plt.subplots(figsize = (8,5))\n",
    "\n",
    "ax.plot(closeTrain , label = \"trainig\")\n",
    "ax.plot(closeTest, label = \"testing\")\n",
    "ax.plot(Y_pred, label = \"prediction\")\n",
    "ax.set_xlabel('Year')\n",
    "ax.set_ylabel('Closing Price')\n",
    "ax.set_title(\"Bitcoin ARIMA Prediction\")\n",
    "ax.legend()"
   ]
  },
  {
   "cell_type": "code",
   "execution_count": 39,
   "id": "ac3faadc-dfd4-4d16-9092-b581d4c912ea",
   "metadata": {},
   "outputs": [
    {
     "name": "stdout",
     "output_type": "stream",
     "text": [
      "MSE: 0.037873652777966706\n",
      "R Squared: 0.005192043402034163\n",
      "RMSE: 0.1946115432803684\n"
     ]
    }
   ],
   "source": [
    "MSE = metrics.mean_squared_error(closeTest, Y_pred, squared=False)\n",
    "\n",
    "RSquared = metrics.r2_score(closeTest, Y_pred)\n",
    "\n",
    "RMSE = math.sqrt(MSE)\n",
    "\n",
    "print(\"MSE:\",MSE)\n",
    "print(\"R Squared:\",RSquared)\n",
    "print(\"RMSE:\",RMSE)"
   ]
  },
  {
   "cell_type": "markdown",
   "id": "12b06215-9478-430b-aabc-39307139d97f",
   "metadata": {},
   "source": [
    "## XRP"
   ]
  },
  {
   "cell_type": "markdown",
   "id": "afbda706-1428-41e8-971e-3484be5479e8",
   "metadata": {},
   "source": [
    "### Loading Data"
   ]
  },
  {
   "cell_type": "code",
   "execution_count": 40,
   "id": "52de44bc-d21f-4ed1-a977-daef2096427c",
   "metadata": {},
   "outputs": [
    {
     "data": {
      "text/plain": [
       "Symbol       0\n",
       "Date         0\n",
       "High         0\n",
       "Low          0\n",
       "Open         0\n",
       "Close        0\n",
       "Volume       0\n",
       "Marketcap    0\n",
       "dtype: int64"
      ]
     },
     "execution_count": 40,
     "metadata": {},
     "output_type": "execute_result"
    }
   ],
   "source": [
    "XRP = pd.read_csv(\"coin_XRP.csv\")\n",
    "XRP = XRP.drop(columns=['SNo','Name'])\n",
    "\n",
    "XRP.isnull().sum()"
   ]
  },
  {
   "cell_type": "markdown",
   "id": "744dff3f-6054-4042-b679-c655ae8fc6dd",
   "metadata": {},
   "source": [
    "### Data Preparation"
   ]
  },
  {
   "cell_type": "code",
   "execution_count": 41,
   "id": "a8c99571-f3e1-4f62-84d4-d0c0ac988e26",
   "metadata": {},
   "outputs": [],
   "source": [
    "import datetime as dt\n",
    "\n",
    "XRP[\"Date\"]=pd.to_datetime(XRP[\"Date\"])\n",
    "XRP[\"Date\"] = XRP[\"Date\"].dt.strftime('%Y-%m-%d')\n",
    "XRP[\"Date\"]=pd.to_datetime(XRP[\"Date\"])"
   ]
  },
  {
   "cell_type": "markdown",
   "id": "5114e78d-151b-4ed9-98ef-8ae8467d2ece",
   "metadata": {},
   "source": [
    "#### Three Week Average Calculation"
   ]
  },
  {
   "cell_type": "code",
   "execution_count": 42,
   "id": "961f7b2e-2d89-444f-a455-b36a52f606ff",
   "metadata": {},
   "outputs": [],
   "source": [
    "data_week = [0 for i in range(7)]\n",
    "closes = XRP['Close'].values\n",
    "\n",
    "for i in closes[:-7]:\n",
    "    data_week.append(i)"
   ]
  },
  {
   "cell_type": "code",
   "execution_count": 43,
   "id": "c91694cd-7657-40f1-bb1e-1fc280135ded",
   "metadata": {},
   "outputs": [],
   "source": [
    "three_avg = [0,0,0]\n",
    "for i in range(len(closes)-3):\n",
    "    three_avg.append((closes[i] + closes[i+1] + closes[i+2])/3)\n",
    "#print(len(three_avg))\n",
    "#print(len(closes))\n",
    "XRP[\"Three_day_Avg\"] = three_avg"
   ]
  },
  {
   "cell_type": "code",
   "execution_count": 44,
   "id": "3c522714-8f01-45f7-9cc3-4fef163b8f4a",
   "metadata": {},
   "outputs": [
    {
     "data": {
      "text/plain": [
       "[<matplotlib.lines.Line2D at 0x7fa072e27760>]"
      ]
     },
     "execution_count": 44,
     "metadata": {},
     "output_type": "execute_result"
    },
    {
     "data": {
      "image/png": "[encoded data removed]",
      "text/plain": [
       "<Figure size 432x288 with 1 Axes>"
      ]
     },
     "metadata": {
      "needs_background": "light"
     },
     "output_type": "display_data"
    }
   ],
   "source": [
    "plt.plot(XRP['Date'] , closes)\n",
    "plt.plot(XRP['Date'] , three_avg)\n",
    "plt.plot(XRP['Date'] , data_week)"
   ]
  },
  {
   "cell_type": "markdown",
   "id": "77039674-6ff0-4061-9df9-fc1bffe277d8",
   "metadata": {},
   "source": [
    "#### Week Average Calculation"
   ]
  },
  {
   "cell_type": "code",
   "execution_count": 45,
   "id": "cc0f569e-9ee2-49cc-8563-770b22525e3b",
   "metadata": {},
   "outputs": [],
   "source": [
    "XRP['Day'] = XRP['Date'].dt.day_name()"
   ]
  },
  {
   "cell_type": "code",
   "execution_count": 46,
   "id": "fa54ef94-0dc1-4dab-be99-6cc79aac8099",
   "metadata": {},
   "outputs": [
    {
     "name": "stdout",
     "output_type": "stream",
     "text": [
      "[]\n"
     ]
    }
   ],
   "source": [
    "day = XRP['Day'].values\n",
    "\n",
    "i = 0 \n",
    "Sum = 0\n",
    "while day[i] !='Monday':\n",
    "    Sum+=closes[i]\n",
    "    i+=1\n",
    "WeekAvg = [ Sum/(i) for j in range(i)]\n",
    "print(WeekAvg)\n",
    "for j in range(i , len(closes)-7, 7):\n",
    "    Avg = sum(closes[j : j +7])/7\n",
    "    curr = [Avg for i in range(7)]\n",
    "    WeekAvg+=curr\n",
    "for j in range( len(WeekAvg) , len(closes)):\n",
    "    WeekAvg.append(closes[i])\n",
    "XRP[\"Week_Avg\"] = WeekAvg"
   ]
  },
  {
   "cell_type": "markdown",
   "id": "627f5e7e-dc67-4bee-b316-1f379fd70292",
   "metadata": {},
   "source": [
    "#### Month Average Calculation"
   ]
  },
  {
   "cell_type": "code",
   "execution_count": 47,
   "id": "36d88084-c4cb-4cee-9187-de8944e8ef05",
   "metadata": {},
   "outputs": [],
   "source": [
    "XRP['Month'] = XRP['Date'].dt.month"
   ]
  },
  {
   "cell_type": "code",
   "execution_count": 48,
   "id": "eb80c14e-d47c-4077-ae2d-3f65199b5633",
   "metadata": {},
   "outputs": [],
   "source": [
    "month = XRP['Month'].values\n",
    "monthavg = []\n",
    "Sum = closes[0]\n",
    "n = 1\n",
    "for i in range(1 , len(month)):\n",
    "    if month[i] != month[i-1]:\n",
    "        curr = [Sum/n for j in range(n)]\n",
    "        monthavg+=curr\n",
    "        Sum = 0\n",
    "        n=0\n",
    "   \n",
    "    Sum+=closes[i]\n",
    "    n+=1\n",
    "\n",
    "curr = [Sum/n for j in range(n)]\n",
    "monthavg+=curr\n",
    "\n",
    "\n",
    "XRP['Month_Avg'] = monthavg"
   ]
  },
  {
   "cell_type": "code",
   "execution_count": 49,
   "id": "dccbf367-e1d0-497d-8cdd-21aaa3d67928",
   "metadata": {},
   "outputs": [],
   "source": [
    "XRP['Year'] = XRP[\"Date\"].dt.year\n",
    "XRP['Month'] = XRP[\"Date\"].dt.month\n",
    "XRP['Day'] = XRP[\"Date\"].dt.day"
   ]
  },
  {
   "cell_type": "code",
   "execution_count": 50,
   "id": "98e21387-ac0a-4f72-a479-40e4a9fe37eb",
   "metadata": {},
   "outputs": [
    {
     "data": {
      "text/plain": [
       "<AxesSubplot:title={'center':'Mean XRP Closing Price'}, xlabel='Date'>"
      ]
     },
     "execution_count": 50,
     "metadata": {},
     "output_type": "execute_result"
    },
    {
     "data": {
      "image/png": "[encoded data removed]",
      "text/plain": [
       "<Figure size 576x360 with 1 Axes>"
      ]
     },
     "metadata": {
      "needs_background": "light"
     },
     "output_type": "display_data"
    }
   ],
   "source": [
    "df_grouped = XRP.groupby([\"Date\"])['Close'].mean()\n",
    "df_grouped.plot(figsize = (8,5) , title = \"Mean XRP Closing Price\")"
   ]
  },
  {
   "cell_type": "code",
   "execution_count": 51,
   "id": "7b64a923-9983-4073-9e12-8068e4df54cd",
   "metadata": {},
   "outputs": [
    {
     "data": {
      "text/plain": [
       "<AxesSubplot:title={'center':'Mean XRP Closing Price'}, xlabel='Year'>"
      ]
     },
     "execution_count": 51,
     "metadata": {},
     "output_type": "execute_result"
    },
    {
     "data": {
      "image/png": "[encoded data removed]",
      "text/plain": [
       "<Figure size 576x360 with 1 Axes>"
      ]
     },
     "metadata": {
      "needs_background": "light"
     },
     "output_type": "display_data"
    }
   ],
   "source": [
    "df_year = XRP.groupby(['Year'])['Close'].mean()\n",
    "df_year.plot.bar(figsize = (8,5) ,title = \"Mean XRP Closing Price\")"
   ]
  },
  {
   "cell_type": "markdown",
   "id": "375d400c-ddee-4955-a570-ec46672a6a2d",
   "metadata": {},
   "source": [
    "#### Training/Testing Data Split"
   ]
  },
  {
   "cell_type": "code",
   "execution_count": 52,
   "id": "73099090-ca3c-4efd-a1db-a947d36e3d7d",
   "metadata": {},
   "outputs": [],
   "source": [
    "X= XRP.drop(columns=['Close','Open','High','Low','Symbol','Volume','Marketcap','Date'])\n",
    "y= XRP['Close']"
   ]
  },
  {
   "cell_type": "code",
   "execution_count": 53,
   "id": "a8cc096b-29fb-449a-9bf1-85b8d3ebc072",
   "metadata": {},
   "outputs": [],
   "source": [
    "from sklearn.model_selection import train_test_split\n",
    "\n",
    "X_train, X_test, y_train, y_test = train_test_split(X, y, test_size = 0.33, random_state = 42)"
   ]
  },
  {
   "cell_type": "markdown",
   "id": "7c37dc2d-57c7-4f6f-81bd-e202cd75ed93",
   "metadata": {},
   "source": [
    "### Regression"
   ]
  },
  {
   "cell_type": "markdown",
   "id": "9a737311-6ed4-403f-8b4c-df387f76ebd0",
   "metadata": {},
   "source": [
    "#### Decision Tree Regression"
   ]
  },
  {
   "cell_type": "code",
   "execution_count": 54,
   "id": "ddd5b1fb-005f-4e8d-916a-d642387e1fe2",
   "metadata": {},
   "outputs": [
    {
     "name": "stdout",
     "output_type": "stream",
     "text": [
      "MSE: 0.0381231807531713\n",
      "R Squared: 0.9865390144924696\n"
     ]
    }
   ],
   "source": [
    "from sklearn.tree import DecisionTreeRegressor\n",
    "\n",
    "tree_reg = DecisionTreeRegressor(min_samples_leaf=5,random_state=42)\n",
    "tree_reg.fit(X_train, y_train)\n",
    "\n",
    "y_train_pred = tree_reg.predict(X_train)\n",
    "\n",
    "print(\"MSE:\", metrics.mean_squared_error(y_train, y_train_pred, squared=False))\n",
    "print(\"R Squared:\", metrics.r2_score(y_train, y_train_pred))"
   ]
  },
  {
   "cell_type": "code",
   "execution_count": 55,
   "id": "d978d3c4-9d65-4dbe-a726-a704b71517a4",
   "metadata": {},
   "outputs": [
    {
     "name": "stdout",
     "output_type": "stream",
     "text": [
      "Best model: {'max_depth': 5, 'min_samples_leaf': 1, 'min_samples_split': 4, 'splitter': 'best'}\n",
      "Best score: 0.979346\n",
      "Best test auc: 0.971709\n"
     ]
    }
   ],
   "source": [
    "param_grid = {\n",
    "    'splitter': ['best','random'],\n",
    "    'max_depth': [1,2,3,4,5,6,7,8,9],\n",
    "    'min_samples_split': [2,3,4,5,6],\n",
    "    'min_samples_leaf': [1,2,3,4,5,6]\n",
    "}\n",
    "dtr_gs = GridSearchCV(estimator=DecisionTreeRegressor() , param_grid=param_grid)\n",
    "\n",
    "dtr_gs.fit(X_train, y_train)\n",
    "\n",
    "dtr_gs_best = dtr_gs.best_estimator_\n",
    "dtr_gs_best.fit(X_train,y_train)\n",
    "\n",
    "print('Best model: %s' % str(dtr_gs.best_params_))\n",
    "print('Best score: %f' % dtr_gs.best_score_)\n",
    "print('Best test auc: %f' % dtr_gs_best.score(X_test,y_test))"
   ]
  },
  {
   "cell_type": "code",
   "execution_count": 56,
   "id": "27b73295-6576-4134-93d1-d4a8f3b5c037",
   "metadata": {},
   "outputs": [
    {
     "name": "stdout",
     "output_type": "stream",
     "text": [
      "MSE: 0.05353967890514609\n",
      "R Squared: 0.9776298867467774\n",
      "RMSE: 0.2313864276597616\n"
     ]
    }
   ],
   "source": [
    "import math\n",
    "\n",
    "tree_reg = DecisionTreeRegressor(max_depth = 6, min_samples_leaf = 1, min_samples_split = 2, splitter = 'best')\n",
    "tree_reg.fit(X_train, y_train)\n",
    "\n",
    "y_test_pred = tree_reg.predict(X_test)\n",
    "\n",
    "MSE = metrics.mean_squared_error(y_test, y_test_pred, squared=False)\n",
    "\n",
    "RSquared = metrics.r2_score(y_test, y_test_pred)\n",
    "\n",
    "RMSE = math.sqrt(MSE)\n",
    "\n",
    "print(\"MSE:\",MSE)\n",
    "print(\"R Squared:\",RSquared)\n",
    "print(\"RMSE:\",RMSE)"
   ]
  },
  {
   "cell_type": "code",
   "execution_count": 57,
   "id": "755a32c6-fdf2-4452-a89e-7162481c01ef",
   "metadata": {},
   "outputs": [
    {
     "data": {
      "text/plain": [
       "<matplotlib.legend.Legend at 0x7fa055d5a520>"
      ]
     },
     "execution_count": 57,
     "metadata": {},
     "output_type": "execute_result"
    },
    {
     "data": {
      "image/png": "[encoded data removed]",
      "text/plain": [
       "<Figure size 432x432 with 1 Axes>"
      ]
     },
     "metadata": {
      "needs_background": "light"
     },
     "output_type": "display_data"
    }
   ],
   "source": [
    "fig, ax = plt.subplots(figsize=(6, 6))\n",
    "\n",
    "#mpl.rcParams['font.size'] = 5\n",
    "mpl.rcParams['axes.linewidth'] = 0\n",
    "\n",
    "ax.scatter(y_train_pred,y_train,color='blue', s=6, label = \"Train\")\n",
    "\n",
    "ax.scatter(y_test_pred,y_test,color='red', s=6, label = \"Test\")\n",
    "\n",
    "\n",
    "ax.set_xlabel(\"Predicted Values\", fontsize=10)\n",
    "ax.set_ylabel(\"True Values\", fontsize=10)\n",
    "ax.legend()"
   ]
  },
  {
   "cell_type": "markdown",
   "id": "ea10d738-b616-4610-9c78-e5f87b5310a9",
   "metadata": {},
   "source": [
    "#### Linear Regression"
   ]
  },
  {
   "cell_type": "code",
   "execution_count": 58,
   "id": "44ebad13-e989-4114-8e45-2b48df19cbe3",
   "metadata": {},
   "outputs": [
    {
     "name": "stdout",
     "output_type": "stream",
     "text": [
      "MSE: 0.051905905402961215\n",
      "R Squared: 0.9789743127508929\n",
      "RMSE: 0.2278286755502064\n"
     ]
    }
   ],
   "source": [
    "from sklearn.linear_model import LinearRegression\n",
    "\n",
    "linear_reg = LinearRegression()\n",
    "linear_reg.fit(X_train, y_train)\n",
    "\n",
    "y_train_pred = linear_reg.predict(X_train)\n",
    "\n",
    "y_test_pred = linear_reg.predict(X_test)\n",
    "\n",
    "MSE = metrics.mean_squared_error(y_test, y_test_pred, squared=False)\n",
    "\n",
    "RSquared = metrics.r2_score(y_test, y_test_pred)\n",
    "\n",
    "RMSE = math.sqrt(MSE)\n",
    "\n",
    "print(\"MSE:\",MSE)\n",
    "print(\"R Squared:\",RSquared)\n",
    "print(\"RMSE:\",RMSE)"
   ]
  },
  {
   "cell_type": "code",
   "execution_count": 59,
   "id": "364db975-56ac-467a-8ecc-18c6974f73bb",
   "metadata": {},
   "outputs": [
    {
     "data": {
      "text/plain": [
       "<matplotlib.legend.Legend at 0x7f9ff01be2e0>"
      ]
     },
     "execution_count": 59,
     "metadata": {},
     "output_type": "execute_result"
    },
    {
     "data": {
      "image/png": "[encoded data removed]",
      "text/plain": [
       "<Figure size 432x432 with 1 Axes>"
      ]
     },
     "metadata": {
      "needs_background": "light"
     },
     "output_type": "display_data"
    }
   ],
   "source": [
    "fig, ax = plt.subplots(figsize=(6, 6))\n",
    "\n",
    "#mpl.rcParams['font.size'] = 5\n",
    "mpl.rcParams['axes.linewidth'] = 0\n",
    "\n",
    "ax.scatter(y_train_pred,y_train,color='blue', s=6, label = \"Train\")\n",
    "\n",
    "ax.scatter(y_test_pred,y_test,color='red', s=6, label = \"Test\")\n",
    "\n",
    "\n",
    "ax.set_xlabel(\"Predicted Values\", fontsize=10)\n",
    "ax.set_ylabel(\"True Values\", fontsize=10)\n",
    "ax.legend()"
   ]
  },
  {
   "cell_type": "markdown",
   "id": "2ffd6adf-4846-4428-be3d-171de2ddf314",
   "metadata": {},
   "source": [
    "#### Bayesian Ridge"
   ]
  },
  {
   "cell_type": "code",
   "execution_count": 60,
   "id": "eead3f99-8781-47a5-a01d-cf1c5ee992f4",
   "metadata": {},
   "outputs": [
    {
     "name": "stdout",
     "output_type": "stream",
     "text": [
      "MSE: 0.05192538308089133\n",
      "R Squared: 0.9789585300225261\n",
      "RMSE: 0.22787141786738266\n"
     ]
    }
   ],
   "source": [
    "from sklearn.linear_model  import BayesianRidge\n",
    "\n",
    "br_reg = BayesianRidge()\n",
    "\n",
    "br_reg .fit(X_train, y_train)\n",
    "\n",
    "y_train_pred = br_reg.predict(X_train)\n",
    "y_test_pred = br_reg.predict(X_test)\n",
    "\n",
    "MSE = metrics.mean_squared_error(y_test, y_test_pred, squared=False)\n",
    "\n",
    "RSquared = metrics.r2_score(y_test, y_test_pred)\n",
    "\n",
    "RMSE = math.sqrt(MSE)\n",
    "\n",
    "print(\"MSE:\",MSE)\n",
    "print(\"R Squared:\",RSquared)\n",
    "print(\"RMSE:\",RMSE)"
   ]
  },
  {
   "cell_type": "code",
   "execution_count": 61,
   "id": "3bbfe9a2-1a29-43bd-9b58-78c5dc9b25e9",
   "metadata": {},
   "outputs": [
    {
     "data": {
      "text/plain": [
       "<matplotlib.legend.Legend at 0x7fa054dfb6a0>"
      ]
     },
     "execution_count": 61,
     "metadata": {},
     "output_type": "execute_result"
    },
    {
     "data": {
      "image/png": "[encoded data removed]",
      "text/plain": [
       "<Figure size 432x432 with 1 Axes>"
      ]
     },
     "metadata": {
      "needs_background": "light"
     },
     "output_type": "display_data"
    }
   ],
   "source": [
    "fig, ax = plt.subplots(figsize=(6, 6))\n",
    "\n",
    "#mpl.rcParams['font.size'] = 5\n",
    "mpl.rcParams['axes.linewidth'] = 0\n",
    "\n",
    "ax.scatter(y_train_pred,y_train,color='blue', s=6, label = \"Train\")\n",
    "\n",
    "ax.scatter(y_test_pred,y_test,color='red', s=6, label = \"Test\")\n",
    "\n",
    "\n",
    "ax.set_xlabel(\"Predicted Values\", fontsize=10)\n",
    "ax.set_ylabel(\"True Values\", fontsize=10)\n",
    "ax.legend()"
   ]
  },
  {
   "cell_type": "markdown",
   "id": "34a4d0d0-46d0-42ac-b6dc-f8b46f708591",
   "metadata": {},
   "source": [
    "### Time Series (ARIMA)"
   ]
  },
  {
   "cell_type": "code",
   "execution_count": 62,
   "id": "62547f33-70a7-40a1-b2b1-d3279dd8334c",
   "metadata": {},
   "outputs": [
    {
     "data": {
      "text/plain": [
       "[<matplotlib.lines.Line2D at 0x7fa030149ca0>]"
      ]
     },
     "execution_count": 62,
     "metadata": {},
     "output_type": "execute_result"
    },
    {
     "data": {
      "image/png": "[encoded data removed]",
      "text/plain": [
       "<Figure size 432x288 with 1 Axes>"
      ]
     },
     "metadata": {
      "needs_background": "light"
     },
     "output_type": "display_data"
    }
   ],
   "source": [
    "rollmean = XRP[\"Close\"].rolling(10).mean()\n",
    "plt.plot(rollmean)\n",
    "\n",
    "plt.plot(XRP[\"Close\"])\n",
    "\n",
    "plt.plot(XRP[\"Close\"].rolling(10).std()) #not stationary "
   ]
  },
  {
   "cell_type": "code",
   "execution_count": 63,
   "id": "f49462e0-e478-460d-80d9-f38b78816ab0",
   "metadata": {},
   "outputs": [
    {
     "data": {
      "text/plain": [
       "(2893,)"
      ]
     },
     "execution_count": 63,
     "metadata": {},
     "output_type": "execute_result"
    }
   ],
   "source": [
    "Close_scaled = XRP['Close']\n",
    "\n",
    "Close_scaled = Close_scaled.array\n",
    "Close_scaled.shape"
   ]
  },
  {
   "cell_type": "code",
   "execution_count": 64,
   "id": "2716088e-3516-4991-bd6e-ef78ba67fbc3",
   "metadata": {},
   "outputs": [],
   "source": [
    "Close_scaled = Close_scaled.reshape(-1,1)"
   ]
  },
  {
   "cell_type": "code",
   "execution_count": 65,
   "id": "02cd7886-5ab5-4f80-801e-08c9aa79efb5",
   "metadata": {},
   "outputs": [],
   "source": [
    "from sklearn.preprocessing import MinMaxScaler\n",
    "\n",
    "scaler = MinMaxScaler().fit(Close_scaled)\n",
    "\n",
    "Close_scaled = scaler.transform(Close_scaled)\n",
    "\n",
    "Close_scaled = Close_scaled.reshape(2893,)"
   ]
  },
  {
   "cell_type": "code",
   "execution_count": 66,
   "id": "78ddde95-b824-4825-be71-2fa8a5818674",
   "metadata": {},
   "outputs": [],
   "source": [
    "Close_scaled = pd.Series(Close_scaled)\n",
    "XRP['Close_scaled'] = Close_scaled"
   ]
  },
  {
   "cell_type": "code",
   "execution_count": 67,
   "id": "f1d7c112-1ad5-4b0e-a05b-e6b6fc0d2454",
   "metadata": {},
   "outputs": [
    {
     "name": "stdout",
     "output_type": "stream",
     "text": [
      "12\n",
      "2881\n"
     ]
    },
    {
     "data": {
      "text/plain": [
       "Date\n",
       "2013-08-05    0.000830\n",
       "2013-08-06    0.000554\n",
       "2013-08-07    0.000476\n",
       "2013-08-08    0.000428\n",
       "2013-08-09    0.000439\n",
       "                ...   \n",
       "2021-06-20    0.229205\n",
       "2021-06-21    0.180023\n",
       "2021-06-22    0.160669\n",
       "2021-06-23    0.184807\n",
       "2021-06-24    0.198278\n",
       "Name: Close_scaled, Length: 2881, dtype: float64"
      ]
     },
     "execution_count": 67,
     "metadata": {},
     "output_type": "execute_result"
    }
   ],
   "source": [
    "Data_Arima = XRP.set_index('Date')\n",
    "closeTrain = Data_Arima['Close_scaled'][:-12]\n",
    "closeTest = Data_Arima['Close_scaled'][-12:]\n",
    "print(len(closeTest))\n",
    "print(len(closeTrain))\n",
    "\n",
    "closeTrain"
   ]
  },
  {
   "cell_type": "code",
   "execution_count": 68,
   "id": "88822a7c-4e1f-4575-8dbe-1fef84fe8621",
   "metadata": {},
   "outputs": [
    {
     "data": {
      "text/plain": [
       "(0.01, False)"
      ]
     },
     "execution_count": 68,
     "metadata": {},
     "output_type": "execute_result"
    }
   ],
   "source": [
    "adf = pmd.arima.ADFTest(alpha = 0.05)\n",
    "adf.should_diff(Data_Arima['Close'])\n",
    "#data is already station"
   ]
  },
  {
   "cell_type": "code",
   "execution_count": 69,
   "id": "898a6b57-8c75-4bdb-b48b-38eb90c5ea8b",
   "metadata": {},
   "outputs": [
    {
     "name": "stdout",
     "output_type": "stream",
     "text": [
      "12\n"
     ]
    }
   ],
   "source": [
    "model = pmd.arima.auto_arima(closeTrain, error_action='ignore', seasonal = True)\n",
    "model.fit(closeTrain)\n",
    "y_pred = model.predict(n_periods = len(closeTest))\n",
    "print(len(y_pred))\n",
    "Y_pred = pd.DataFrame(y_pred , index = closeTest.index , columns = [\"Pred\"])    "
   ]
  },
  {
   "cell_type": "code",
   "execution_count": 70,
   "id": "27ddc2ba-8247-449d-aad1-23644fbcd192",
   "metadata": {},
   "outputs": [
    {
     "data": {
      "text/plain": [
       "<matplotlib.legend.Legend at 0x7fa054dfb370>"
      ]
     },
     "execution_count": 70,
     "metadata": {},
     "output_type": "execute_result"
    },
    {
     "data": {
      "text/plain": [
       "<Figure size 432x288 with 0 Axes>"
      ]
     },
     "metadata": {},
     "output_type": "display_data"
    },
    {
     "data": {
      "image/png": "[encoded data removed]",
      "text/plain": [
       "<Figure size 576x360 with 1 Axes>"
      ]
     },
     "metadata": {
      "needs_background": "light"
     },
     "output_type": "display_data"
    }
   ],
   "source": [
    "fig = plt.figure()\n",
    "fig, ax = plt.subplots(figsize = (8,5))\n",
    "\n",
    "ax.plot(closeTrain , label = \"trainig\")\n",
    "ax.plot(closeTest, label = \"testing\")\n",
    "ax.plot(Y_pred, label = \"prediction\")\n",
    "ax.set_xlabel('Year')\n",
    "ax.set_ylabel('Closing Price')\n",
    "ax.set_title(\"Binance XRP Prediction\")\n",
    "ax.legend()"
   ]
  },
  {
   "cell_type": "code",
   "execution_count": 71,
   "id": "d6b97382-5be4-4ac3-bc96-c9bb6d433b25",
   "metadata": {},
   "outputs": [
    {
     "name": "stdout",
     "output_type": "stream",
     "text": [
      "MSE: 0.009119698209109382\n",
      "R Squared: -0.14387921475401444\n",
      "RMSE: 0.09549711099875945\n"
     ]
    }
   ],
   "source": [
    "MSE = metrics.mean_squared_error(closeTest, Y_pred, squared=False)\n",
    "\n",
    "RSquared = metrics.r2_score(closeTest, Y_pred)\n",
    "\n",
    "RMSE = math.sqrt(MSE)\n",
    "\n",
    "print(\"MSE:\",MSE)\n",
    "print(\"R Squared:\",RSquared)\n",
    "print(\"RMSE:\",RMSE)"
   ]
  },
  {
   "cell_type": "markdown",
   "id": "8368aa9d-b77a-423a-8c18-b2584539b2e1",
   "metadata": {},
   "source": [
    "## Ethereum"
   ]
  },
  {
   "cell_type": "markdown",
   "id": "306e2149-8a5f-4376-bfc9-f2336027b6ea",
   "metadata": {},
   "source": [
    "### Loading Data"
   ]
  },
  {
   "cell_type": "code",
   "execution_count": 73,
   "id": "d28df680-3323-4974-887a-82a3782fb4b7",
   "metadata": {},
   "outputs": [
    {
     "data": {
      "text/plain": [
       "Symbol       0\n",
       "Date         0\n",
       "High         0\n",
       "Low          0\n",
       "Open         0\n",
       "Close        0\n",
       "Volume       0\n",
       "Marketcap    0\n",
       "dtype: int64"
      ]
     },
     "execution_count": 73,
     "metadata": {},
     "output_type": "execute_result"
    }
   ],
   "source": [
    "Ethereum = pd.read_csv(\"coin_Ethereum.csv\")\n",
    "Ethereum = Ethereum.drop(columns=['SNo','Name'])\n",
    "\n",
    "Ethereum.isnull().sum()"
   ]
  },
  {
   "cell_type": "markdown",
   "id": "213394b4-b613-40c4-a58a-665862329958",
   "metadata": {},
   "source": [
    "### Data Preparation"
   ]
  },
  {
   "cell_type": "code",
   "execution_count": 74,
   "id": "ecab0d95-6bda-436c-b1fe-19af75ba13ef",
   "metadata": {},
   "outputs": [],
   "source": [
    "import datetime as dt\n",
    "\n",
    "Ethereum[\"Date\"]=pd.to_datetime(Ethereum[\"Date\"])\n",
    "Ethereum[\"Date\"] = Ethereum[\"Date\"].dt.strftime('%Y-%m-%d')\n",
    "Ethereum[\"Date\"]=pd.to_datetime(Ethereum[\"Date\"])"
   ]
  },
  {
   "cell_type": "code",
   "execution_count": 75,
   "id": "139fce31-aa42-4bd3-8d43-268fe7b8cd6f",
   "metadata": {},
   "outputs": [],
   "source": [
    "data_week = [0 for i in range(7)]\n",
    "closes = Ethereum['Close'].values\n",
    "\n",
    "for i in closes[:-7]:\n",
    "    data_week.append(i)"
   ]
  },
  {
   "cell_type": "markdown",
   "id": "fba36f09-ee86-4ca0-91ab-4b89b216b8bf",
   "metadata": {},
   "source": [
    "#### Three Week Average Calculation"
   ]
  },
  {
   "cell_type": "code",
   "execution_count": 76,
   "id": "e69f63d9-e481-49ec-a92e-f82b259c76b3",
   "metadata": {},
   "outputs": [
    {
     "name": "stdout",
     "output_type": "stream",
     "text": [
      "2160\n",
      "2160\n"
     ]
    }
   ],
   "source": [
    "three_avg = [0,0,0]\n",
    "for i in range(len(closes)-3):\n",
    "    three_avg.append((closes[i] + closes[i+1] + closes[i+2])/3)\n",
    "\n",
    "print(len(three_avg))\n",
    "print(len(closes))\n",
    "\n",
    "\n",
    "Ethereum[\"Three_day_Avg\"] = three_avg"
   ]
  },
  {
   "cell_type": "code",
   "execution_count": 77,
   "id": "5efc7d04-bda6-4c47-9a7a-934b9423579d",
   "metadata": {},
   "outputs": [
    {
     "data": {
      "text/plain": [
       "[<matplotlib.lines.Line2D at 0x7fa0544d38e0>]"
      ]
     },
     "execution_count": 77,
     "metadata": {},
     "output_type": "execute_result"
    },
    {
     "data": {
      "image/png": "[encoded data removed]",
      "text/plain": [
       "<Figure size 432x288 with 1 Axes>"
      ]
     },
     "metadata": {
      "needs_background": "light"
     },
     "output_type": "display_data"
    }
   ],
   "source": [
    "plt.plot(Ethereum['Date'] , closes)\n",
    "plt.plot(Ethereum['Date'] , three_avg)\n",
    "plt.plot(Ethereum['Date'] , data_week)"
   ]
  },
  {
   "cell_type": "markdown",
   "id": "d8174156-79ea-4616-8f5b-0d5313729832",
   "metadata": {},
   "source": [
    "#### Week Average Calculation"
   ]
  },
  {
   "cell_type": "code",
   "execution_count": 78,
   "id": "9c873128-517b-4d1b-bf11-24ffc7c705e0",
   "metadata": {},
   "outputs": [],
   "source": [
    "Ethereum['Day'] = Ethereum['Date'].dt.day_name()"
   ]
  },
  {
   "cell_type": "code",
   "execution_count": 79,
   "id": "1f1f02df-7fd5-4a43-9f60-8135ca9b6061",
   "metadata": {},
   "outputs": [
    {
     "name": "stdout",
     "output_type": "stream",
     "text": [
      "[0.7276110053062439, 0.7276110053062439]\n"
     ]
    }
   ],
   "source": [
    "day = Ethereum['Day'].values\n",
    "\n",
    "i = 0 \n",
    "Sum = 0\n",
    "while day[i] !='Monday':\n",
    "    Sum+=closes[i]\n",
    "    i+=1\n",
    "WeekAvg = [ Sum/(i) for j in range(i)]\n",
    "print(WeekAvg)\n",
    "for j in range(i , len(closes)-7, 7):\n",
    "    Avg = sum(closes[j : j +7])/7\n",
    "    curr = [Avg for i in range(7)]\n",
    "    WeekAvg+=curr\n",
    "for j in range( len(WeekAvg) , len(closes)):\n",
    "    WeekAvg.append(closes[i])\n",
    "Ethereum[\"Week_Avg\"] = WeekAvg"
   ]
  },
  {
   "cell_type": "markdown",
   "id": "abfef267-7680-48be-8e57-ab814d6b7212",
   "metadata": {},
   "source": [
    "#### Month Average Calculation"
   ]
  },
  {
   "cell_type": "code",
   "execution_count": 80,
   "id": "8e5e9f36-e56b-4d2d-bb57-53ce0d6b9871",
   "metadata": {},
   "outputs": [],
   "source": [
    "Ethereum['Month'] = Ethereum['Date'].dt.month"
   ]
  },
  {
   "cell_type": "code",
   "execution_count": 81,
   "id": "fcba02bb-eb81-499b-ba45-d4783ba21ec6",
   "metadata": {},
   "outputs": [],
   "source": [
    "month = Ethereum['Month'].values\n",
    "monthavg = []\n",
    "Sum = closes[0]\n",
    "n = 1\n",
    "for i in range(1 , len(month)):\n",
    "    if month[i] != month[i-1]:\n",
    "        curr = [Sum/n for j in range(n)]\n",
    "        monthavg+=curr\n",
    "        Sum = 0\n",
    "        n=0\n",
    "   \n",
    "    Sum+=closes[i]\n",
    "    n+=1\n",
    "\n",
    "curr = [Sum/n for j in range(n)]\n",
    "monthavg+=curr\n",
    "\n",
    "\n",
    "Ethereum['Month_Avg'] = monthavg"
   ]
  },
  {
   "cell_type": "code",
   "execution_count": 82,
   "id": "4eebb743-e99f-4655-af93-9c4d35cad2bf",
   "metadata": {},
   "outputs": [],
   "source": [
    "Ethereum['Year'] = Ethereum[\"Date\"].dt.year\n",
    "Ethereum['Month'] = Ethereum[\"Date\"].dt.month\n",
    "Ethereum['Day'] = Ethereum[\"Date\"].dt.day"
   ]
  },
  {
   "cell_type": "code",
   "execution_count": 83,
   "id": "de2e23d5-60e6-4074-837b-7896e6371e3b",
   "metadata": {},
   "outputs": [
    {
     "data": {
      "text/plain": [
       "<AxesSubplot:title={'center':'Mean Ethereum Closing Price'}, xlabel='Date'>"
      ]
     },
     "execution_count": 83,
     "metadata": {},
     "output_type": "execute_result"
    },
    {
     "data": {
      "image/png": "[encoded data removed]",
      "text/plain": [
       "<Figure size 576x360 with 1 Axes>"
      ]
     },
     "metadata": {
      "needs_background": "light"
     },
     "output_type": "display_data"
    }
   ],
   "source": [
    "df_grouped = Ethereum.groupby([\"Date\"])['Close'].mean()\n",
    "df_grouped.plot(figsize = (8,5) , title = \"Mean Ethereum Closing Price\")"
   ]
  },
  {
   "cell_type": "code",
   "execution_count": 84,
   "id": "2f86120e-cc93-47ad-a2a7-b8a52e05f4e3",
   "metadata": {},
   "outputs": [
    {
     "data": {
      "text/plain": [
       "<AxesSubplot:title={'center':'Mean Ethereum Closing Price'}, xlabel='Year'>"
      ]
     },
     "execution_count": 84,
     "metadata": {},
     "output_type": "execute_result"
    },
    {
     "data": {
      "image/png": "[encoded data removed]",
      "text/plain": [
       "<Figure size 576x360 with 1 Axes>"
      ]
     },
     "metadata": {
      "needs_background": "light"
     },
     "output_type": "display_data"
    }
   ],
   "source": [
    "df_year = Ethereum.groupby(['Year'])['Close'].mean()\n",
    "df_year.plot.bar(figsize = (8,5) ,title = \"Mean Ethereum Closing Price\")"
   ]
  },
  {
   "cell_type": "markdown",
   "id": "92151c1d-ad03-4e87-a0ba-0dde9ce5959f",
   "metadata": {},
   "source": [
    "#### Training/Testing Data Split"
   ]
  },
  {
   "cell_type": "code",
   "execution_count": 85,
   "id": "e83fa011-6d1b-4955-8179-43ff21e5dec2",
   "metadata": {},
   "outputs": [],
   "source": [
    "X= Ethereum.drop(columns=['Close','Open','High','Low','Symbol','Volume','Marketcap','Date'])\n",
    "y= Ethereum['Close']"
   ]
  },
  {
   "cell_type": "code",
   "execution_count": 86,
   "id": "0c13597e-652e-4a3c-835a-114776c23fe0",
   "metadata": {},
   "outputs": [],
   "source": [
    "from sklearn.model_selection import train_test_split\n",
    "\n",
    "X_train, X_test, y_train, y_test = train_test_split(X, y, test_size = 0.33, random_state = 42)"
   ]
  },
  {
   "cell_type": "markdown",
   "id": "cdf4ff56-a1e1-4e64-ad8b-f95065084cb5",
   "metadata": {},
   "source": [
    "### Regression"
   ]
  },
  {
   "cell_type": "markdown",
   "id": "6c998118-cc17-485e-b8c9-cb40c9376aa6",
   "metadata": {},
   "source": [
    "#### Decision Tree Regression"
   ]
  },
  {
   "cell_type": "code",
   "execution_count": 87,
   "id": "6c5da0bf-496c-4130-ab9d-de530500af58",
   "metadata": {},
   "outputs": [
    {
     "name": "stdout",
     "output_type": "stream",
     "text": [
      "MSE: 41.054319787713496\n",
      "R Squared: 0.9957289610352534\n"
     ]
    }
   ],
   "source": [
    "from sklearn.tree import DecisionTreeRegressor\n",
    "\n",
    "tree_reg = DecisionTreeRegressor(min_samples_leaf=5,random_state=42)\n",
    "tree_reg.fit(X_train, y_train)\n",
    "\n",
    "y_train_pred = tree_reg.predict(X_train)\n",
    "\n",
    "print(\"MSE:\", metrics.mean_squared_error(y_train, y_train_pred, squared=False))\n",
    "print(\"R Squared:\", metrics.r2_score(y_train, y_train_pred))"
   ]
  },
  {
   "cell_type": "code",
   "execution_count": 88,
   "id": "202156cf-e610-4501-8c3a-a969f1aa8cc8",
   "metadata": {},
   "outputs": [
    {
     "name": "stdout",
     "output_type": "stream",
     "text": [
      "Best model: {'max_depth': 9, 'min_samples_leaf': 1, 'min_samples_split': 5, 'splitter': 'random'}\n",
      "Best score: 0.991278\n",
      "Best test auc: 0.993382\n"
     ]
    }
   ],
   "source": [
    "param_grid = {\n",
    "    'splitter': ['best','random'],\n",
    "    'max_depth': [1,2,3,4,5,6,7,8,9],\n",
    "    'min_samples_split': [2,3,4,5,6],\n",
    "    'min_samples_leaf': [1,2,3,4,5,6]\n",
    "}\n",
    "dtr_gs = GridSearchCV(estimator=DecisionTreeRegressor() , param_grid=param_grid)\n",
    "\n",
    "dtr_gs.fit(X_train, y_train)\n",
    "\n",
    "dtr_gs_best = dtr_gs.best_estimator_\n",
    "dtr_gs_best.fit(X_train,y_train)\n",
    "\n",
    "print('Best model: %s' % str(dtr_gs.best_params_))\n",
    "print('Best score: %f' % dtr_gs.best_score_)\n",
    "print('Best test auc: %f' % dtr_gs_best.score(X_test,y_test))"
   ]
  },
  {
   "cell_type": "code",
   "execution_count": 89,
   "id": "4e5431fd-387b-40ee-b6e9-81f636c292ff",
   "metadata": {},
   "outputs": [
    {
     "name": "stdout",
     "output_type": "stream",
     "text": [
      "MSE: 52.28017791883225\n",
      "R Squared: 0.9906434068530033\n",
      "RMSE: 7.230503296371024\n"
     ]
    }
   ],
   "source": [
    "import math\n",
    "\n",
    "tree_reg = DecisionTreeRegressor(max_depth = 6, min_samples_leaf = 1, min_samples_split = 4, splitter = 'best')\n",
    "tree_reg.fit(X_train, y_train)\n",
    "\n",
    "y_test_pred = tree_reg.predict(X_test)\n",
    "\n",
    "MSE = metrics.mean_squared_error(y_test, y_test_pred, squared=False)\n",
    "\n",
    "RSquared = metrics.r2_score(y_test, y_test_pred)\n",
    "\n",
    "RMSE = math.sqrt(MSE)\n",
    "\n",
    "print(\"MSE:\",MSE)\n",
    "print(\"R Squared:\",RSquared)\n",
    "print(\"RMSE:\",RMSE)"
   ]
  },
  {
   "cell_type": "code",
   "execution_count": 90,
   "id": "25f0111f-0ea4-4d5d-8cf6-342dcaa33263",
   "metadata": {},
   "outputs": [
    {
     "data": {
      "text/plain": [
       "<matplotlib.legend.Legend at 0x7f9ff164d520>"
      ]
     },
     "execution_count": 90,
     "metadata": {},
     "output_type": "execute_result"
    },
    {
     "data": {
      "image/png": "[encoded data removed]",
      "text/plain": [
       "<Figure size 432x432 with 1 Axes>"
      ]
     },
     "metadata": {
      "needs_background": "light"
     },
     "output_type": "display_data"
    }
   ],
   "source": [
    "fig, ax = plt.subplots(figsize=(6, 6))\n",
    "\n",
    "#mpl.rcParams['font.size'] = 5\n",
    "mpl.rcParams['axes.linewidth'] = 0\n",
    "\n",
    "ax.scatter(y_train_pred,y_train,color='blue', s=6, label = \"Train\")\n",
    "\n",
    "ax.scatter(y_test_pred,y_test,color='red', s=6, label = \"Test\")\n",
    "\n",
    "\n",
    "ax.set_xlabel(\"Predicted Values\", fontsize=10)\n",
    "ax.set_ylabel(\"True Values\", fontsize=10)\n",
    "ax.legend()"
   ]
  },
  {
   "cell_type": "markdown",
   "id": "e62ac764-1747-4a7f-af07-ebe349055441",
   "metadata": {},
   "source": [
    "#### Linear Regression"
   ]
  },
  {
   "cell_type": "code",
   "execution_count": 91,
   "id": "becccc34-eb1d-40b9-8fb7-f675e0d0b65e",
   "metadata": {},
   "outputs": [
    {
     "name": "stdout",
     "output_type": "stream",
     "text": [
      "MSE: 34.180568457402686\n",
      "R Squared: 0.9960005322970537\n",
      "RMSE: 5.846415008995058\n"
     ]
    }
   ],
   "source": [
    "from sklearn.linear_model import LinearRegression\n",
    "\n",
    "linear_reg = LinearRegression()\n",
    "linear_reg.fit(X_train, y_train)\n",
    "\n",
    "y_train_pred = linear_reg.predict(X_train)\n",
    "y_test_pred = linear_reg.predict(X_test)\n",
    "\n",
    "MSE = metrics.mean_squared_error(y_test, y_test_pred, squared=False)\n",
    "\n",
    "RSquared = metrics.r2_score(y_test, y_test_pred)\n",
    "\n",
    "RMSE = math.sqrt(MSE)\n",
    "\n",
    "print(\"MSE:\",MSE)\n",
    "print(\"R Squared:\",RSquared)\n",
    "print(\"RMSE:\",RMSE)"
   ]
  },
  {
   "cell_type": "code",
   "execution_count": 92,
   "id": "1b8aa0af-a9eb-444b-848f-6c570d91f865",
   "metadata": {},
   "outputs": [
    {
     "data": {
      "text/plain": [
       "<matplotlib.legend.Legend at 0x7fa062360ca0>"
      ]
     },
     "execution_count": 92,
     "metadata": {},
     "output_type": "execute_result"
    },
    {
     "data": {
      "image/png": "[encoded data removed]",
      "text/plain": [
       "<Figure size 432x432 with 1 Axes>"
      ]
     },
     "metadata": {
      "needs_background": "light"
     },
     "output_type": "display_data"
    }
   ],
   "source": [
    "fig, ax = plt.subplots(figsize=(6, 6))\n",
    "\n",
    "#mpl.rcParams['font.size'] = 5\n",
    "mpl.rcParams['axes.linewidth'] = 0\n",
    "\n",
    "ax.scatter(y_train_pred,y_train,color='blue', s=6, label = \"Train\")\n",
    "\n",
    "ax.scatter(y_test_pred,y_test,color='red', s=6, label = \"Test\")\n",
    "\n",
    "\n",
    "ax.set_xlabel(\"Predicted Values\", fontsize=10)\n",
    "ax.set_ylabel(\"True Values\", fontsize=10)\n",
    "ax.legend()"
   ]
  },
  {
   "cell_type": "markdown",
   "id": "67394874-4d44-4fe7-93ed-ec44a504e154",
   "metadata": {},
   "source": [
    "#### Bayesian Ridge"
   ]
  },
  {
   "cell_type": "code",
   "execution_count": 93,
   "id": "97c6cae1-a89d-4876-9206-9d99ec04c822",
   "metadata": {},
   "outputs": [
    {
     "name": "stdout",
     "output_type": "stream",
     "text": [
      "MSE: 34.1502856752008\n",
      "R Squared: 0.9960076159333426\n",
      "RMSE: 5.843824576011912\n"
     ]
    }
   ],
   "source": [
    "from sklearn.linear_model  import BayesianRidge\n",
    "\n",
    "br_reg = BayesianRidge()\n",
    "br_reg .fit(X_train, y_train)\n",
    "\n",
    "y_train_pred = br_reg.predict(X_train)\n",
    "y_test_pred = br_reg.predict(X_test)\n",
    "\n",
    "MSE = metrics.mean_squared_error(y_test, y_test_pred, squared=False)\n",
    "\n",
    "RSquared = metrics.r2_score(y_test, y_test_pred)\n",
    "\n",
    "RMSE = math.sqrt(MSE)\n",
    "\n",
    "print(\"MSE:\",MSE)\n",
    "print(\"R Squared:\",RSquared)\n",
    "print(\"RMSE:\",RMSE)"
   ]
  },
  {
   "cell_type": "code",
   "execution_count": 94,
   "id": "b3b55b93-ca46-42a3-8f26-65afebcc22f8",
   "metadata": {},
   "outputs": [
    {
     "data": {
      "text/plain": [
       "<matplotlib.legend.Legend at 0x7fa055806f40>"
      ]
     },
     "execution_count": 94,
     "metadata": {},
     "output_type": "execute_result"
    },
    {
     "data": {
      "image/png": "[encoded data removed]",
      "text/plain": [
       "<Figure size 432x432 with 1 Axes>"
      ]
     },
     "metadata": {
      "needs_background": "light"
     },
     "output_type": "display_data"
    }
   ],
   "source": [
    "fig, ax = plt.subplots(figsize=(6, 6))\n",
    "\n",
    "#mpl.rcParams['font.size'] = 5\n",
    "mpl.rcParams['axes.linewidth'] = 0\n",
    "\n",
    "ax.scatter(y_train_pred,y_train,color='blue', s=6, label = \"Train\")\n",
    "\n",
    "ax.scatter(y_test_pred,y_test,color='red', s=6, label = \"Test\")\n",
    "\n",
    "\n",
    "ax.set_xlabel(\"Predicted Values\", fontsize=10)\n",
    "ax.set_ylabel(\"True Values\", fontsize=10)\n",
    "ax.legend()"
   ]
  },
  {
   "cell_type": "markdown",
   "id": "eb55c7c0-809f-419d-b4fb-4951f53de38c",
   "metadata": {},
   "source": [
    "### Time Series (ARIMA)"
   ]
  },
  {
   "cell_type": "code",
   "execution_count": 95,
   "id": "a8bbb864-b139-4dee-8d1c-e5a323906fc5",
   "metadata": {},
   "outputs": [
    {
     "data": {
      "text/plain": [
       "[<matplotlib.lines.Line2D at 0x7f9ff0345460>]"
      ]
     },
     "execution_count": 95,
     "metadata": {},
     "output_type": "execute_result"
    },
    {
     "data": {
      "image/png": "[encoded data removed]",
      "text/plain": [
       "<Figure size 432x288 with 1 Axes>"
      ]
     },
     "metadata": {
      "needs_background": "light"
     },
     "output_type": "display_data"
    }
   ],
   "source": [
    "rollmean = Ethereum[\"Close\"].rolling(10).mean()\n",
    "plt.plot(rollmean)\n",
    "\n",
    "plt.plot(Ethereum[\"Close\"])\n",
    "\n",
    "plt.plot(Ethereum[\"Close\"].rolling(10).std()) #not stationary "
   ]
  },
  {
   "cell_type": "code",
   "execution_count": 96,
   "id": "ef60a1d6-486b-4fd2-b680-8ab2e383432b",
   "metadata": {},
   "outputs": [
    {
     "data": {
      "text/plain": [
       "(2160,)"
      ]
     },
     "execution_count": 96,
     "metadata": {},
     "output_type": "execute_result"
    }
   ],
   "source": [
    "Close_scaled = Ethereum['Close']\n",
    "\n",
    "Close_scaled = Close_scaled.array\n",
    "Close_scaled.shape"
   ]
  },
  {
   "cell_type": "code",
   "execution_count": 97,
   "id": "4e9d3a84-c1d9-42fd-96c6-4957bfa0cf11",
   "metadata": {},
   "outputs": [],
   "source": [
    "Close_scaled = Close_scaled.reshape(-1,1)"
   ]
  },
  {
   "cell_type": "code",
   "execution_count": 98,
   "id": "a34a4d62-513b-49c7-b5f2-b102cdcfeeb8",
   "metadata": {},
   "outputs": [],
   "source": [
    "from sklearn.preprocessing import MinMaxScaler\n",
    "\n",
    "scaler = MinMaxScaler().fit(Close_scaled)\n",
    "\n",
    "Close_scaled = scaler.transform(Close_scaled)\n",
    "\n",
    "Close_scaled = Close_scaled.reshape(2160,)"
   ]
  },
  {
   "cell_type": "code",
   "execution_count": 99,
   "id": "c3cf6e9c-4109-49b9-8bf3-43aa42b563f3",
   "metadata": {},
   "outputs": [],
   "source": [
    "Close_scaled = pd.Series(Close_scaled)\n",
    "Ethereum['Close_scaled'] = Close_scaled"
   ]
  },
  {
   "cell_type": "code",
   "execution_count": 100,
   "id": "c03df985-e31d-4079-a66b-0419f8a9d02f",
   "metadata": {},
   "outputs": [
    {
     "name": "stdout",
     "output_type": "stream",
     "text": [
      "25\n",
      "2135\n"
     ]
    },
    {
     "data": {
      "text/plain": [
       "Date\n",
       "2015-08-08    0.000076\n",
       "2015-08-09    0.000064\n",
       "2015-08-10    0.000066\n",
       "2015-08-11    0.000152\n",
       "2015-08-12    0.000188\n",
       "                ...   \n",
       "2021-06-07    0.621320\n",
       "2021-06-08    0.603849\n",
       "2021-06-09    0.625640\n",
       "2021-06-10    0.592833\n",
       "2021-06-11    0.564583\n",
       "Name: Close_scaled, Length: 2135, dtype: float64"
      ]
     },
     "execution_count": 100,
     "metadata": {},
     "output_type": "execute_result"
    }
   ],
   "source": [
    "Data_Arima = Ethereum.set_index('Date')\n",
    "closeTrain = Data_Arima['Close_scaled'][:-25]\n",
    "closeTest = Data_Arima['Close_scaled'][-25:]\n",
    "print(len(closeTest))\n",
    "print(len(closeTrain))\n",
    "\n",
    "closeTrain"
   ]
  },
  {
   "cell_type": "code",
   "execution_count": 101,
   "id": "c199d402-61b2-4fb5-b444-d9d51bcd92d9",
   "metadata": {},
   "outputs": [
    {
     "data": {
      "text/plain": [
       "(0.9082058855677377, True)"
      ]
     },
     "execution_count": 101,
     "metadata": {},
     "output_type": "execute_result"
    }
   ],
   "source": [
    "adf = pmd.arima.ADFTest(alpha = 0.05)\n",
    "adf.should_diff(Data_Arima['Close'])\n",
    "#data is already station"
   ]
  },
  {
   "cell_type": "code",
   "execution_count": 102,
   "id": "77ec1f99-b628-46ce-94bb-e7f07da6d2e9",
   "metadata": {},
   "outputs": [
    {
     "name": "stdout",
     "output_type": "stream",
     "text": [
      "25\n"
     ]
    }
   ],
   "source": [
    "model = pmd.arima.auto_arima(closeTrain, error_action='ignore', seasonal = True)\n",
    "model.fit(closeTrain)\n",
    "y_pred = model.predict(n_periods = len(closeTest))\n",
    "print(len(y_pred))\n",
    "Y_pred = pd.DataFrame(y_pred , index = closeTest.index , columns = [\"Pred\"])   "
   ]
  },
  {
   "cell_type": "code",
   "execution_count": 103,
   "id": "600fa5a0-9198-41b2-9724-72c80705a4a8",
   "metadata": {},
   "outputs": [
    {
     "data": {
      "text/plain": [
       "<matplotlib.legend.Legend at 0x7fa0556f1ac0>"
      ]
     },
     "execution_count": 103,
     "metadata": {},
     "output_type": "execute_result"
    },
    {
     "data": {
      "text/plain": [
       "<Figure size 432x288 with 0 Axes>"
      ]
     },
     "metadata": {},
     "output_type": "display_data"
    },
    {
     "data": {
      "image/png": "[encoded data removed]",
      "text/plain": [
       "<Figure size 576x360 with 1 Axes>"
      ]
     },
     "metadata": {
      "needs_background": "light"
     },
     "output_type": "display_data"
    }
   ],
   "source": [
    "fig = plt.figure()\n",
    "fig, ax = plt.subplots(figsize = (8,5))\n",
    "\n",
    "ax.plot(closeTrain , label = \"trainig\")\n",
    "ax.plot(closeTest, label = \"testing\")\n",
    "ax.plot(Y_pred, label = \"prediction\")\n",
    "ax.set_xlabel('Year')\n",
    "ax.set_ylabel('Closing Price')\n",
    "ax.set_title(\"Ethereum ARIMA Prediction\")\n",
    "ax.legend()"
   ]
  },
  {
   "cell_type": "code",
   "execution_count": 104,
   "id": "47dfe0f0-a1c9-40dd-bd2b-3124902c7b00",
   "metadata": {},
   "outputs": [
    {
     "name": "stdout",
     "output_type": "stream",
     "text": [
      "MSE: 0.07093323691827946\n",
      "R Squared: -0.8935057584490729\n",
      "RMSE: 0.26633294373449085\n"
     ]
    }
   ],
   "source": [
    "MSE = metrics.mean_squared_error(closeTest, Y_pred, squared=False)\n",
    "\n",
    "RSquared = metrics.r2_score(closeTest, Y_pred)\n",
    "\n",
    "RMSE = math.sqrt(MSE)\n",
    "\n",
    "print(\"MSE:\",MSE)\n",
    "print(\"R Squared:\",RSquared)\n",
    "print(\"RMSE:\",RMSE)"
   ]
  },
  {
   "cell_type": "markdown",
   "id": "6d81bef8-2166-49de-8eca-10d5141b9400",
   "metadata": {},
   "source": [
    "## Solana"
   ]
  },
  {
   "cell_type": "markdown",
   "id": "a7252700-3cfb-4ae1-baa1-07b244682d34",
   "metadata": {},
   "source": [
    "### Loading Data"
   ]
  },
  {
   "cell_type": "code",
   "execution_count": 105,
   "id": "fae995c9-c7c5-4a2f-b0c9-5eb5824ff117",
   "metadata": {},
   "outputs": [
    {
     "data": {
      "text/plain": [
       "Symbol       0\n",
       "Date         0\n",
       "High         0\n",
       "Low          0\n",
       "Open         0\n",
       "Close        0\n",
       "Volume       0\n",
       "Marketcap    0\n",
       "dtype: int64"
      ]
     },
     "execution_count": 105,
     "metadata": {},
     "output_type": "execute_result"
    }
   ],
   "source": [
    "Solana = pd.read_csv(\"coin_Solana.csv\")\n",
    "Solana = Solana.drop(columns=['SNo','Name'])\n",
    "\n",
    "\n",
    "Solana.isnull().sum()"
   ]
  },
  {
   "cell_type": "markdown",
   "id": "58e2b5d6-4018-4f61-954a-8e450229f32f",
   "metadata": {},
   "source": [
    "### Data Preparation"
   ]
  },
  {
   "cell_type": "code",
   "execution_count": 106,
   "id": "e3dd75a6-a905-4eb9-8d27-0b037ff4defa",
   "metadata": {},
   "outputs": [],
   "source": [
    "import datetime as dt\n",
    "\n",
    "Solana[\"Date\"]=pd.to_datetime(Solana[\"Date\"])\n",
    "Solana[\"Date\"] = Solana[\"Date\"].dt.strftime('%Y-%m-%d')\n",
    "Solana[\"Date\"]=pd.to_datetime(Solana[\"Date\"])"
   ]
  },
  {
   "cell_type": "code",
   "execution_count": 107,
   "id": "87d384a6-ed77-4daa-a583-9c28fc26c3ff",
   "metadata": {},
   "outputs": [
    {
     "data": {
      "text/plain": [
       "<AxesSubplot:xlabel='Date', ylabel='Close'>"
      ]
     },
     "execution_count": 107,
     "metadata": {},
     "output_type": "execute_result"
    },
    {
     "data": {
      "image/png": "[encoded data removed]",
      "text/plain": [
       "<Figure size 432x288 with 1 Axes>"
      ]
     },
     "metadata": {
      "needs_background": "light"
     },
     "output_type": "display_data"
    }
   ],
   "source": [
    "sns.lineplot(data=Solana, x=\"Date\", y=\"Close\")"
   ]
  },
  {
   "cell_type": "code",
   "execution_count": 108,
   "id": "785d8ec7-bcfd-4e35-95e4-227a290998ab",
   "metadata": {},
   "outputs": [],
   "source": [
    "data_week = [0 for i in range(7)]\n",
    "closes = Solana['Close'].values\n",
    "\n",
    "for i in closes[:-7]:\n",
    "    data_week.append(i)"
   ]
  },
  {
   "cell_type": "markdown",
   "id": "7a340aaa-cd55-451a-9b45-694705fb1676",
   "metadata": {},
   "source": [
    "#### Three Week Average Calculation"
   ]
  },
  {
   "cell_type": "code",
   "execution_count": 111,
   "id": "01fa3355-a632-4ea3-b215-afa363c5a02d",
   "metadata": {},
   "outputs": [
    {
     "name": "stdout",
     "output_type": "stream",
     "text": [
      "452\n",
      "452\n"
     ]
    }
   ],
   "source": [
    "three_avg = [0,0,0]\n",
    "for i in range(len(closes)-3):\n",
    "    three_avg.append((closes[i] + closes[i+1] + closes[i+2])/3)\n",
    "\n",
    "print(len(three_avg))\n",
    "print(len(closes))\n",
    "\n",
    "\n",
    "Solana[\"Three_day_Avg\"] = three_avg"
   ]
  },
  {
   "cell_type": "code",
   "execution_count": 112,
   "id": "3ae8758d-83f0-4c19-9b93-611e57f152f9",
   "metadata": {},
   "outputs": [
    {
     "data": {
      "text/plain": [
       "[<matplotlib.lines.Line2D at 0x7fd0fbc6fe50>]"
      ]
     },
     "execution_count": 112,
     "metadata": {},
     "output_type": "execute_result"
    },
    {
     "data": {
      "image/png": "[encoded data removed]",
      "text/plain": [
       "<Figure size 432x288 with 1 Axes>"
      ]
     },
     "metadata": {
      "needs_background": "light"
     },
     "output_type": "display_data"
    }
   ],
   "source": [
    "plt.plot(Solana['Date'] , closes)\n",
    "plt.plot(Solana['Date'] , three_avg)\n",
    "plt.plot(Solana['Date'] , data_week)"
   ]
  },
  {
   "cell_type": "markdown",
   "id": "dec990f6-a5d5-44fd-a4c0-82c3e4970c4a",
   "metadata": {},
   "source": [
    "#### Week Average Calculation"
   ]
  },
  {
   "cell_type": "code",
   "execution_count": 113,
   "id": "934ca919-4d3a-4fdc-8545-51a3a05841e6",
   "metadata": {},
   "outputs": [],
   "source": [
    "Solana['Day'] = Solana['Date'].dt.day_name()"
   ]
  },
  {
   "cell_type": "code",
   "execution_count": 114,
   "id": "9c2f2cf7-9969-457e-bac3-c3b41ddd913a",
   "metadata": {},
   "outputs": [
    {
     "name": "stdout",
     "output_type": "stream",
     "text": [
      "[0.8296627556180001, 0.8296627556180001]\n"
     ]
    }
   ],
   "source": [
    "day = Solana['Day'].values\n",
    "\n",
    "i = 0 \n",
    "Sum = 0\n",
    "while day[i] !='Monday':\n",
    "    Sum+=closes[i]\n",
    "    i+=1\n",
    "WeekAvg = [ Sum/(i) for j in range(i)]\n",
    "print(WeekAvg)\n",
    "for j in range(i , len(closes)-7, 7):\n",
    "    Avg = sum(closes[j : j +7])/7\n",
    "    curr = [Avg for i in range(7)]\n",
    "    WeekAvg+=curr\n",
    "for j in range( len(WeekAvg) , len(closes)):\n",
    "    WeekAvg.append(closes[i])\n",
    "Solana[\"Week_Avg\"] = WeekAvg"
   ]
  },
  {
   "cell_type": "markdown",
   "id": "2d8c974d-2cdd-40ad-8637-b2d928d22d59",
   "metadata": {},
   "source": [
    "#### Month Average Calculation"
   ]
  },
  {
   "cell_type": "code",
   "execution_count": 115,
   "id": "04f0fb8c-6a3c-4b37-9ab2-2038edc3ab9f",
   "metadata": {},
   "outputs": [],
   "source": [
    "Solana['Month'] = Solana['Date'].dt.month"
   ]
  },
  {
   "cell_type": "code",
   "execution_count": 116,
   "id": "304c9935-aa21-45a7-af28-a3277104eae0",
   "metadata": {},
   "outputs": [],
   "source": [
    "month = Solana['Month'].values\n",
    "monthavg = []\n",
    "Sum = closes[0]\n",
    "n = 1\n",
    "for i in range(1 , len(month)):\n",
    "    if month[i] != month[i-1]:\n",
    "        curr = [Sum/n for j in range(n)]\n",
    "        monthavg+=curr\n",
    "        Sum = 0\n",
    "        n=0\n",
    "   \n",
    "    Sum+=closes[i]\n",
    "    n+=1\n",
    "\n",
    "curr = [Sum/n for j in range(n)]\n",
    "monthavg+=curr\n",
    "\n",
    "\n",
    "Solana['Month_Avg'] = monthavg"
   ]
  },
  {
   "cell_type": "code",
   "execution_count": 117,
   "id": "0fbedf5f-00b2-4c82-b5a9-aaac06459b92",
   "metadata": {},
   "outputs": [],
   "source": [
    "Solana['Year'] = Solana[\"Date\"].dt.year\n",
    "Solana['Month'] = Solana[\"Date\"].dt.month\n",
    "Solana['Day'] = Solana[\"Date\"].dt.day"
   ]
  },
  {
   "cell_type": "code",
   "execution_count": 190,
   "id": "a266fe7e-8b9d-4fa2-a7f9-d2ca700fc06d",
   "metadata": {},
   "outputs": [
    {
     "data": {
      "text/plain": [
       "<AxesSubplot:title={'center':'Mean Solana Closing Price'}, xlabel='Date'>"
      ]
     },
     "execution_count": 190,
     "metadata": {},
     "output_type": "execute_result"
    },
    {
     "data": {
      "image/png": "[encoded data removed]",
      "text/plain": [
       "<Figure size 576x360 with 1 Axes>"
      ]
     },
     "metadata": {
      "needs_background": "light"
     },
     "output_type": "display_data"
    }
   ],
   "source": [
    "df_grouped = Solana.groupby([\"Date\"])['Close'].mean()\n",
    "df_grouped.plot(figsize = (8,5) , title = \"Mean Solana Closing Price\")"
   ]
  },
  {
   "cell_type": "code",
   "execution_count": 191,
   "id": "20756a5f-1f1e-473f-9c48-2f71a30c55ec",
   "metadata": {},
   "outputs": [
    {
     "data": {
      "text/plain": [
       "<AxesSubplot:title={'center':'Mean Solana Closing Price'}, xlabel='Year'>"
      ]
     },
     "execution_count": 191,
     "metadata": {},
     "output_type": "execute_result"
    },
    {
     "data": {
      "image/png": "[encoded data removed]",
      "text/plain": [
       "<Figure size 576x360 with 1 Axes>"
      ]
     },
     "metadata": {
      "needs_background": "light"
     },
     "output_type": "display_data"
    }
   ],
   "source": [
    "df_year = Solana.groupby(['Year'])['Close'].mean()\n",
    "df_year.plot.bar(figsize = (8,5) ,title = \"Mean Solana Closing Price\")"
   ]
  },
  {
   "cell_type": "markdown",
   "id": "c677f083-6a72-41f8-aa30-92418b3eaa77",
   "metadata": {},
   "source": [
    "#### Training/Testing Split"
   ]
  },
  {
   "cell_type": "code",
   "execution_count": 120,
   "id": "db3742f4-cf3a-4a9a-83c4-b657be0f692d",
   "metadata": {},
   "outputs": [],
   "source": [
    "X= Solana.drop(columns=['Close','Open','High','Low','Symbol','Volume','Marketcap','Date'])\n",
    "y= Solana['Close']"
   ]
  },
  {
   "cell_type": "code",
   "execution_count": 121,
   "id": "7c287ef9-7da8-4cb1-ad09-130d96509be3",
   "metadata": {},
   "outputs": [],
   "source": [
    "from sklearn.model_selection import train_test_split\n",
    "\n",
    "X_train, X_test, y_train, y_test = train_test_split(X, y, test_size = 0.33, random_state = 42)"
   ]
  },
  {
   "cell_type": "markdown",
   "id": "4cf7b69e-2d53-4f01-a930-4777d7d91fa5",
   "metadata": {},
   "source": [
    "### Regression"
   ]
  },
  {
   "cell_type": "markdown",
   "id": "6faa9abd-2fa0-4fdb-b36c-ae80efe374b2",
   "metadata": {},
   "source": [
    "#### Decision Tree Regression"
   ]
  },
  {
   "cell_type": "code",
   "execution_count": 122,
   "id": "698be85d-da71-4ef1-b572-e3bb4f34ac3b",
   "metadata": {},
   "outputs": [
    {
     "name": "stdout",
     "output_type": "stream",
     "text": [
      "MSE: 1.4319485552417979\n",
      "R Squared: 0.9893184331822812\n"
     ]
    }
   ],
   "source": [
    "from sklearn.tree import DecisionTreeRegressor\n",
    "\n",
    "tree_reg = DecisionTreeRegressor(min_samples_leaf=5,random_state=42)\n",
    "tree_reg.fit(X_train, y_train)\n",
    "\n",
    "y_train_pred = tree_reg.predict(X_train)\n",
    "\n",
    "print(\"MSE:\", metrics.mean_squared_error(y_train, y_train_pred, squared=False))\n",
    "print(\"R Squared:\", metrics.r2_score(y_train, y_train_pred))"
   ]
  },
  {
   "cell_type": "code",
   "execution_count": 123,
   "id": "9156f3e4-6498-4443-bed4-75a2c6e3c8ab",
   "metadata": {},
   "outputs": [
    {
     "name": "stdout",
     "output_type": "stream",
     "text": [
      "Best model: {'max_depth': 7, 'min_samples_leaf': 5, 'min_samples_split': 5, 'splitter': 'random'}\n",
      "Best score: 0.982901\n",
      "Best test auc: 0.977714\n"
     ]
    }
   ],
   "source": [
    "param_grid = {\n",
    "    'splitter': ['best','random'],\n",
    "    'max_depth': [1,2,3,4,5,6,7,8,9],\n",
    "    'min_samples_split': [2,3,4,5,6],\n",
    "    'min_samples_leaf': [1,2,3,4,5,6]\n",
    "}\n",
    "dtr_gs = GridSearchCV(estimator=DecisionTreeRegressor() , param_grid=param_grid)\n",
    "\n",
    "dtr_gs.fit(X_train, y_train)\n",
    "\n",
    "dtr_gs_best = dtr_gs.best_estimator_\n",
    "dtr_gs_best.fit(X_train,y_train)\n",
    "\n",
    "print('Best model: %s' % str(dtr_gs.best_params_))\n",
    "print('Best score: %f' % dtr_gs.best_score_)\n",
    "print('Best test auc: %f' % dtr_gs_best.score(X_test,y_test))"
   ]
  },
  {
   "cell_type": "code",
   "execution_count": 124,
   "id": "eba154e6-6043-43ff-afc6-dcd76122f7e8",
   "metadata": {},
   "outputs": [
    {
     "name": "stdout",
     "output_type": "stream",
     "text": [
      "MSE: 2.3125931709319243\n",
      "R Squared: 0.9748154218776384\n",
      "RMSE: 1.5207212666797043\n"
     ]
    }
   ],
   "source": [
    "import math\n",
    "\n",
    "tree_reg = DecisionTreeRegressor(max_depth = 6, min_samples_leaf = 1, min_samples_split = 4, splitter = 'best')\n",
    "tree_reg.fit(X_train, y_train)\n",
    "\n",
    "y_test_pred = tree_reg.predict(X_test)\n",
    "\n",
    "MSE = metrics.mean_squared_error(y_test, y_test_pred, squared=False)\n",
    "\n",
    "RSquared = metrics.r2_score(y_test, y_test_pred)\n",
    "\n",
    "RMSE = math.sqrt(MSE)\n",
    "\n",
    "print(\"MSE:\",MSE)\n",
    "print(\"R Squared:\",RSquared)\n",
    "print(\"RMSE:\",RMSE)"
   ]
  },
  {
   "cell_type": "code",
   "execution_count": 125,
   "id": "a05f2eba-53f4-4560-91cd-5c07e1049432",
   "metadata": {},
   "outputs": [
    {
     "data": {
      "text/plain": [
       "<matplotlib.legend.Legend at 0x7fd0dadaf970>"
      ]
     },
     "execution_count": 125,
     "metadata": {},
     "output_type": "execute_result"
    },
    {
     "data": {
      "image/png": "[encoded data removed]",
      "text/plain": [
       "<Figure size 432x432 with 1 Axes>"
      ]
     },
     "metadata": {
      "needs_background": "light"
     },
     "output_type": "display_data"
    }
   ],
   "source": [
    "fig, ax = plt.subplots(figsize=(6, 6))\n",
    "\n",
    "#mpl.rcParams['font.size'] = 5\n",
    "mpl.rcParams['axes.linewidth'] = 0\n",
    "\n",
    "ax.scatter(y_train_pred,y_train,color='blue', s=6, label = \"Train\")\n",
    "\n",
    "ax.scatter(y_test_pred,y_test,color='red', s=6, label = \"Test\")\n",
    "\n",
    "\n",
    "ax.set_xlabel(\"Predicted Values\", fontsize=10)\n",
    "ax.set_ylabel(\"True Values\", fontsize=10)\n",
    "ax.legend()"
   ]
  },
  {
   "cell_type": "markdown",
   "id": "d2b5b363-84cf-4b3c-9128-e7d7e966229a",
   "metadata": {},
   "source": [
    "#### Linear Regression"
   ]
  },
  {
   "cell_type": "code",
   "execution_count": 126,
   "id": "2775be50-9304-414b-a6c0-79979274d94d",
   "metadata": {},
   "outputs": [
    {
     "name": "stdout",
     "output_type": "stream",
     "text": [
      "MSE: 1.8357043002932116\n",
      "R Squared: 0.9841312889184965\n",
      "RMSE: 1.3548816554567455\n"
     ]
    }
   ],
   "source": [
    "from sklearn.linear_model import LinearRegression\n",
    "\n",
    "linear_reg = LinearRegression()\n",
    "linear_reg.fit(X_train, y_train)\n",
    "\n",
    "y_train_pred = linear_reg.predict(X_train)\n",
    "y_test_pred = linear_reg.predict(X_test)\n",
    "\n",
    "MSE = metrics.mean_squared_error(y_test, y_test_pred, squared=False)\n",
    "\n",
    "RSquared = metrics.r2_score(y_test, y_test_pred)\n",
    "\n",
    "RMSE = math.sqrt(MSE)\n",
    "\n",
    "print(\"MSE:\",MSE)\n",
    "print(\"R Squared:\",RSquared)\n",
    "print(\"RMSE:\",RMSE)"
   ]
  },
  {
   "cell_type": "code",
   "execution_count": 127,
   "id": "9bc4860a-f28d-4e59-8cb0-a3fc21ebf833",
   "metadata": {},
   "outputs": [
    {
     "data": {
      "text/plain": [
       "<matplotlib.legend.Legend at 0x7fd0fb20bc70>"
      ]
     },
     "execution_count": 127,
     "metadata": {},
     "output_type": "execute_result"
    },
    {
     "data": {
      "image/png": "[encoded data removed]",
      "text/plain": [
       "<Figure size 432x432 with 1 Axes>"
      ]
     },
     "metadata": {
      "needs_background": "light"
     },
     "output_type": "display_data"
    }
   ],
   "source": [
    "fig, ax = plt.subplots(figsize=(6, 6))\n",
    "\n",
    "#mpl.rcParams['font.size'] =15\n",
    "mpl.rcParams['axes.linewidth'] = 0\n",
    "\n",
    "ax.scatter(y_train_pred,y_train,color='blue', s=6, label = \"Train\")\n",
    "\n",
    "ax.scatter(y_test_pred,y_test,color='red', s=6, label = \"Test\")\n",
    "\n",
    "\n",
    "ax.set_xlabel(\"Predicted Values\", fontsize=10)\n",
    "ax.set_ylabel(\"True Values\", fontsize=10)\n",
    "ax.legend()"
   ]
  },
  {
   "cell_type": "markdown",
   "id": "71e6469e-74ed-4983-a203-41594d5f47af",
   "metadata": {},
   "source": [
    "#### Bayesian Ridge"
   ]
  },
  {
   "cell_type": "code",
   "execution_count": 128,
   "id": "da948e5d-2315-43ff-8d2d-9a222b40fc89",
   "metadata": {},
   "outputs": [
    {
     "name": "stdout",
     "output_type": "stream",
     "text": [
      "MSE: 1.830591726560135\n",
      "R Squared: 0.9842195569243448\n",
      "RMSE: 1.3529936165999215\n"
     ]
    }
   ],
   "source": [
    "from sklearn.linear_model  import BayesianRidge\n",
    "\n",
    "br_reg = BayesianRidge()\n",
    "\n",
    "br_reg .fit(X_train, y_train)\n",
    "\n",
    "y_train_pred = br_reg.predict(X_train)\n",
    "y_test_pred = br_reg.predict(X_test)\n",
    "\n",
    "MSE = metrics.mean_squared_error(y_test, y_test_pred, squared=False)\n",
    "\n",
    "RSquared = metrics.r2_score(y_test, y_test_pred)\n",
    "\n",
    "RMSE = math.sqrt(MSE)\n",
    "\n",
    "print(\"MSE:\",MSE)\n",
    "print(\"R Squared:\",RSquared)\n",
    "print(\"RMSE:\",RMSE)"
   ]
  },
  {
   "cell_type": "code",
   "execution_count": 129,
   "id": "9fe53071-4153-4d23-8663-abed2c547b95",
   "metadata": {},
   "outputs": [
    {
     "data": {
      "text/plain": [
       "<matplotlib.legend.Legend at 0x7fd0beaca550>"
      ]
     },
     "execution_count": 129,
     "metadata": {},
     "output_type": "execute_result"
    },
    {
     "data": {
      "image/png": "[encoded data removed]",
      "text/plain": [
       "<Figure size 432x432 with 1 Axes>"
      ]
     },
     "metadata": {
      "needs_background": "light"
     },
     "output_type": "display_data"
    }
   ],
   "source": [
    "fig, ax = plt.subplots(figsize=(6, 6))\n",
    "\n",
    "#mpl.rcParams['font.size'] = 5\n",
    "mpl.rcParams['axes.linewidth'] = 0\n",
    "\n",
    "ax.scatter(y_train_pred,y_train,color='blue', s=6, label = \"Train\")\n",
    "\n",
    "ax.scatter(y_test_pred,y_test,color='red', s=6, label = \"Test\")\n",
    "\n",
    "\n",
    "ax.set_xlabel(\"Predicted Values\", fontsize=10)\n",
    "ax.set_ylabel(\"True Values\", fontsize=10)\n",
    "ax.legend()"
   ]
  },
  {
   "cell_type": "markdown",
   "id": "d1b40675-b589-4722-af33-c6420723fd38",
   "metadata": {},
   "source": [
    "## Time Series (ARIMA)"
   ]
  },
  {
   "cell_type": "code",
   "execution_count": 130,
   "id": "960629c2-4bef-4ffb-965b-12622fb9f8ea",
   "metadata": {},
   "outputs": [
    {
     "data": {
      "text/plain": [
       "[<matplotlib.lines.Line2D at 0x7fd0fb1d7760>]"
      ]
     },
     "execution_count": 130,
     "metadata": {},
     "output_type": "execute_result"
    },
    {
     "data": {
      "image/png": "[encoded data removed]",
      "text/plain": [
       "<Figure size 432x288 with 1 Axes>"
      ]
     },
     "metadata": {
      "needs_background": "light"
     },
     "output_type": "display_data"
    }
   ],
   "source": [
    "rollmean = Solana[\"Close\"].rolling(10).mean()\n",
    "plt.plot(rollmean)\n",
    "\n",
    "plt.plot(Solana[\"Close\"])\n",
    "\n",
    "plt.plot(Solana[\"Close\"].rolling(10).std()) #not stationary "
   ]
  },
  {
   "cell_type": "code",
   "execution_count": 131,
   "id": "335f76cf-f2e3-4ba2-9624-123997b04ba5",
   "metadata": {},
   "outputs": [
    {
     "data": {
      "text/plain": [
       "(452,)"
      ]
     },
     "execution_count": 131,
     "metadata": {},
     "output_type": "execute_result"
    }
   ],
   "source": [
    "Close_scaled = Solana['Close']\n",
    "\n",
    "Close_scaled = Close_scaled.array\n",
    "Close_scaled.shape"
   ]
  },
  {
   "cell_type": "code",
   "execution_count": 132,
   "id": "c742de27-cc52-4110-9687-e9de685cd09d",
   "metadata": {},
   "outputs": [],
   "source": [
    "Close_scaled = Close_scaled.reshape(-1,1)"
   ]
  },
  {
   "cell_type": "code",
   "execution_count": 133,
   "id": "e4f33ec9-6653-4b4b-9d21-98fb8920b4ce",
   "metadata": {},
   "outputs": [],
   "source": [
    "from sklearn.preprocessing import MinMaxScaler\n",
    "\n",
    "scaler = MinMaxScaler().fit(Close_scaled)\n",
    "\n",
    "Close_scaled = scaler.transform(Close_scaled)\n",
    "\n",
    "Close_scaled = Close_scaled.reshape(452,)"
   ]
  },
  {
   "cell_type": "code",
   "execution_count": 134,
   "id": "eddf71f5-e101-4b88-922c-a560066cfa09",
   "metadata": {},
   "outputs": [],
   "source": [
    "Close_scaled = pd.Series(Close_scaled)\n",
    "Solana['Close_scaled'] = Close_scaled"
   ]
  },
  {
   "cell_type": "code",
   "execution_count": 135,
   "id": "9b658357-7f58-4bbe-8464-896215b68880",
   "metadata": {},
   "outputs": [
    {
     "name": "stdout",
     "output_type": "stream",
     "text": [
      "12\n",
      "440\n"
     ]
    },
    {
     "data": {
      "text/plain": [
       "Date\n",
       "2020-04-11    0.004721\n",
       "2020-04-12    0.006629\n",
       "2020-04-13    0.004740\n",
       "2020-04-14    0.002647\n",
       "2020-04-15    0.002372\n",
       "                ...   \n",
       "2021-06-20    0.628329\n",
       "2021-06-21    0.471916\n",
       "2021-06-22    0.473982\n",
       "2021-06-23    0.533139\n",
       "2021-06-24    0.553577\n",
       "Name: Close_scaled, Length: 440, dtype: float64"
      ]
     },
     "execution_count": 135,
     "metadata": {},
     "output_type": "execute_result"
    }
   ],
   "source": [
    "Data_Arima = Solana.set_index('Date')\n",
    "closeTrain = Data_Arima['Close_scaled'][:-12]\n",
    "closeTest = Data_Arima['Close_scaled'][-12:]\n",
    "print(len(closeTest))\n",
    "print(len(closeTrain))\n",
    "\n",
    "closeTrain"
   ]
  },
  {
   "cell_type": "code",
   "execution_count": 136,
   "id": "424da8d1-0aff-4cfd-944c-9334da845e0a",
   "metadata": {},
   "outputs": [
    {
     "data": {
      "text/plain": [
       "(0.6386137452339302, True)"
      ]
     },
     "execution_count": 136,
     "metadata": {},
     "output_type": "execute_result"
    }
   ],
   "source": [
    "adf = pmd.arima.ADFTest(alpha = 0.05)\n",
    "adf.should_diff(Data_Arima['Close'])\n",
    "#data is already station"
   ]
  },
  {
   "cell_type": "code",
   "execution_count": 137,
   "id": "88786f4e-fbcf-4e12-9f3e-c8e9c14be69e",
   "metadata": {},
   "outputs": [
    {
     "name": "stdout",
     "output_type": "stream",
     "text": [
      "12\n"
     ]
    }
   ],
   "source": [
    "model = pmd.arima.auto_arima(closeTrain, error_action='ignore', seasonal = True)\n",
    "model.fit(closeTrain)\n",
    "y_pred = model.predict(n_periods = len(closeTest))\n",
    "print(len(y_pred))\n",
    "Y_pred = pd.DataFrame(y_pred , index = closeTest.index , columns = [\"Pred\"])      "
   ]
  },
  {
   "cell_type": "code",
   "execution_count": 192,
   "id": "bef82105-528c-4006-832e-2c36e9ec637e",
   "metadata": {},
   "outputs": [
    {
     "data": {
      "text/plain": [
       "<matplotlib.legend.Legend at 0x7fd088033dc0>"
      ]
     },
     "execution_count": 192,
     "metadata": {},
     "output_type": "execute_result"
    },
    {
     "data": {
      "text/plain": [
       "<Figure size 432x288 with 0 Axes>"
      ]
     },
     "metadata": {},
     "output_type": "display_data"
    },
    {
     "data": {
      "image/png": "[encoded data removed]",
      "text/plain": [
       "<Figure size 576x360 with 1 Axes>"
      ]
     },
     "metadata": {
      "needs_background": "light"
     },
     "output_type": "display_data"
    }
   ],
   "source": [
    "fig = plt.figure()\n",
    "fig, ax = plt.subplots(figsize = (8,5))\n",
    "\n",
    "ax.plot(closeTrain , label = \"trainig\")\n",
    "ax.plot(closeTest, label = \"testing\")\n",
    "ax.plot(Y_pred, label = \"prediction\")\n",
    "ax.set_xlabel('Year')\n",
    "ax.set_ylabel('Closing Price')\n",
    "ax.set_title(\"Solana ARIMA Prediction\")\n",
    "ax.legend()"
   ]
  },
  {
   "cell_type": "code",
   "execution_count": 139,
   "id": "d19120b9-cd61-42e9-9c7f-233f6cb1e110",
   "metadata": {},
   "outputs": [
    {
     "name": "stdout",
     "output_type": "stream",
     "text": [
      "MSE: 0.041161412338938726\n",
      "R Squared: -0.4032447662873875\n",
      "RMSE: 0.20288275515414986\n"
     ]
    }
   ],
   "source": [
    "MSE = metrics.mean_squared_error(closeTest, Y_pred, squared=False)\n",
    "\n",
    "RSquared = metrics.r2_score(closeTest, Y_pred)\n",
    "\n",
    "RMSE = math.sqrt(MSE)\n",
    "\n",
    "print(\"MSE:\",MSE)\n",
    "print(\"R Squared:\",RSquared)\n",
    "print(\"RMSE:\",RMSE)"
   ]
  },
  {
   "cell_type": "markdown",
   "id": "3d0514ed-ec81-419d-93c7-5d92914b7b16",
   "metadata": {},
   "source": [
    "## Binance"
   ]
  },
  {
   "cell_type": "markdown",
   "id": "7d1f9eef-bc91-4bc6-a2bf-b569d07efd6a",
   "metadata": {},
   "source": [
    "### Loading Data"
   ]
  },
  {
   "cell_type": "code",
   "execution_count": 6,
   "id": "6f9c20c9-108f-4ddc-9492-91c1d063959b",
   "metadata": {},
   "outputs": [
    {
     "data": {
      "text/plain": [
       "Symbol       0\n",
       "Date         0\n",
       "High         0\n",
       "Low          0\n",
       "Open         0\n",
       "Close        0\n",
       "Volume       0\n",
       "Marketcap    0\n",
       "dtype: int64"
      ]
     },
     "execution_count": 6,
     "metadata": {},
     "output_type": "execute_result"
    }
   ],
   "source": [
    "Binance = pd.read_csv(\"coin_BinanceCoin.csv\")\n",
    "Binance = Binance.drop(columns=['SNo','Name'])\n",
    "\n",
    "\n",
    "Binance.isnull().sum()"
   ]
  },
  {
   "cell_type": "markdown",
   "id": "00599210-2501-4623-bdff-544b3884f2a6",
   "metadata": {},
   "source": [
    "### Data Preparation"
   ]
  },
  {
   "cell_type": "code",
   "execution_count": 141,
   "id": "44a9c0a8-e6c4-44bc-9ebf-6e37478454cc",
   "metadata": {},
   "outputs": [],
   "source": [
    "import datetime as dt\n",
    "\n",
    "Binance[\"Date\"]=pd.to_datetime(Binance[\"Date\"])\n",
    "Binance[\"Date\"] = Binance[\"Date\"].dt.strftime('%Y-%m-%d')\n",
    "Binance[\"Date\"]=pd.to_datetime(Binance[\"Date\"])"
   ]
  },
  {
   "cell_type": "code",
   "execution_count": 142,
   "id": "73eefe88-93fd-4f98-99c4-03f6ab3158a7",
   "metadata": {},
   "outputs": [],
   "source": [
    "data_week = [0 for i in range(7)]\n",
    "closes = Binance['Close'].values\n",
    "\n",
    "for i in closes[:-7]:\n",
    "    data_week.append(i)"
   ]
  },
  {
   "cell_type": "markdown",
   "id": "f58688d3-dc34-46f9-88df-9ba420aa0a74",
   "metadata": {},
   "source": [
    "#### Three Week Average Calculation"
   ]
  },
  {
   "cell_type": "code",
   "execution_count": 143,
   "id": "4de17897-cba9-4820-9874-a66f27868857",
   "metadata": {},
   "outputs": [
    {
     "name": "stdout",
     "output_type": "stream",
     "text": [
      "1442\n",
      "1442\n"
     ]
    }
   ],
   "source": [
    "three_avg = [0,0,0]\n",
    "for i in range(len(closes)-3):\n",
    "    three_avg.append((closes[i] + closes[i+1] + closes[i+2])/3)\n",
    "\n",
    "print(len(three_avg))\n",
    "print(len(closes))\n",
    "\n",
    "\n",
    "Binance[\"Three_day_Avg\"] = three_avg"
   ]
  },
  {
   "cell_type": "code",
   "execution_count": 144,
   "id": "58e5588e-80ae-491d-ac93-7220edf0a318",
   "metadata": {},
   "outputs": [
    {
     "data": {
      "text/plain": [
       "[<matplotlib.lines.Line2D at 0x7fd0bc7a2cd0>]"
      ]
     },
     "execution_count": 144,
     "metadata": {},
     "output_type": "execute_result"
    },
    {
     "data": {
      "image/png": "[encoded data removed]",
      "text/plain": [
       "<Figure size 432x288 with 1 Axes>"
      ]
     },
     "metadata": {
      "needs_background": "light"
     },
     "output_type": "display_data"
    }
   ],
   "source": [
    "plt.plot(Binance['Date'] , closes)\n",
    "plt.plot(Binance['Date'] , three_avg)\n",
    "plt.plot(Binance['Date'] , data_week)"
   ]
  },
  {
   "cell_type": "code",
   "execution_count": 145,
   "id": "423f1767-2c56-4534-98be-ab2046d6e91b",
   "metadata": {},
   "outputs": [],
   "source": [
    "Binance['Day'] = Binance['Date'].dt.day_name()"
   ]
  },
  {
   "cell_type": "markdown",
   "id": "9a1bd16b-fdac-4933-b0ad-15d9db3e88cb",
   "metadata": {},
   "source": [
    "#### Week Average Calculation"
   ]
  },
  {
   "cell_type": "code",
   "execution_count": 146,
   "id": "e9d8df1a-4765-49cd-a75d-3ccecb071936",
   "metadata": {},
   "outputs": [
    {
     "name": "stdout",
     "output_type": "stream",
     "text": [
      "[0.10623339712619777, 0.10623339712619777, 0.10623339712619777, 0.10623339712619777, 0.10623339712619777]\n"
     ]
    }
   ],
   "source": [
    "day = Binance['Day'].values\n",
    "\n",
    "i = 0 \n",
    "Sum = 0\n",
    "while day[i] !='Monday':\n",
    "    Sum+=closes[i]\n",
    "    i+=1\n",
    "WeekAvg = [ Sum/(i) for j in range(i)]\n",
    "print(WeekAvg)\n",
    "for j in range(i , len(closes)-7, 7):\n",
    "    Avg = sum(closes[j : j +7])/7\n",
    "    curr = [Avg for i in range(7)]\n",
    "    WeekAvg+=curr\n",
    "for j in range( len(WeekAvg) , len(closes)):\n",
    "    WeekAvg.append(closes[i])\n",
    "Binance[\"Week_Avg\"] = WeekAvg"
   ]
  },
  {
   "cell_type": "markdown",
   "id": "43730947-f188-40b9-870d-23734f20eb5b",
   "metadata": {},
   "source": [
    "#### Month Average Calculation"
   ]
  },
  {
   "cell_type": "code",
   "execution_count": 147,
   "id": "9939d24b-156c-4542-b70f-a4c83bf8c43b",
   "metadata": {},
   "outputs": [],
   "source": [
    "Binance['Month'] = Binance['Date'].dt.month"
   ]
  },
  {
   "cell_type": "code",
   "execution_count": 148,
   "id": "8a899fda-f673-4d27-83e7-e7432879bb7f",
   "metadata": {},
   "outputs": [],
   "source": [
    "month = Binance['Month'].values\n",
    "monthavg = []\n",
    "Sum = closes[0]\n",
    "n = 1\n",
    "for i in range(1 , len(month)):\n",
    "    if month[i] != month[i-1]:\n",
    "        curr = [Sum/n for j in range(n)]\n",
    "        monthavg+=curr\n",
    "        Sum = 0\n",
    "        n=0\n",
    "   \n",
    "    Sum+=closes[i]\n",
    "    n+=1\n",
    "\n",
    "curr = [Sum/n for j in range(n)]\n",
    "monthavg+=curr\n",
    "\n",
    "\n",
    "Binance['Month_Avg'] = monthavg"
   ]
  },
  {
   "cell_type": "code",
   "execution_count": 149,
   "id": "965b0120-4d21-4eab-9f27-cd897a4d9e8f",
   "metadata": {},
   "outputs": [],
   "source": [
    "Binance['Year'] = Binance[\"Date\"].dt.year\n",
    "Binance['Month'] = Binance[\"Date\"].dt.month\n",
    "Binance['Day'] = Binance[\"Date\"].dt.day"
   ]
  },
  {
   "cell_type": "code",
   "execution_count": 193,
   "id": "01cdfdef-0519-4eee-947f-02f2b383b435",
   "metadata": {},
   "outputs": [
    {
     "data": {
      "text/plain": [
       "<AxesSubplot:title={'center':'Mean Binance Closing Price'}, xlabel='Date'>"
      ]
     },
     "execution_count": 193,
     "metadata": {},
     "output_type": "execute_result"
    },
    {
     "data": {
      "image/png": "[encoded data removed]",
      "text/plain": [
       "<Figure size 576x360 with 1 Axes>"
      ]
     },
     "metadata": {
      "needs_background": "light"
     },
     "output_type": "display_data"
    }
   ],
   "source": [
    "df_grouped = Binance.groupby([\"Date\"])['Close'].mean()\n",
    "df_grouped.plot(figsize = (8,5) , title = \"Mean Binance Closing Price\") "
   ]
  },
  {
   "cell_type": "code",
   "execution_count": 194,
   "id": "c5d48aff-9fbb-4484-8664-edba9d5623fb",
   "metadata": {},
   "outputs": [
    {
     "data": {
      "text/plain": [
       "<AxesSubplot:title={'center':'Mean Binance Closing Price'}, xlabel='Year'>"
      ]
     },
     "execution_count": 194,
     "metadata": {},
     "output_type": "execute_result"
    },
    {
     "data": {
      "image/png": "[encoded data removed]",
      "text/plain": [
       "<Figure size 576x360 with 1 Axes>"
      ]
     },
     "metadata": {
      "needs_background": "light"
     },
     "output_type": "display_data"
    }
   ],
   "source": [
    "df_year = Binance.groupby(['Year'])['Close'].mean()\n",
    "df_year.plot.bar(figsize = (8,5) ,title = \"Mean Binance Closing Price\")"
   ]
  },
  {
   "cell_type": "markdown",
   "id": "adf8e18b-24a9-4fb2-89b4-a80853fab315",
   "metadata": {},
   "source": [
    "#### Testing/Training Split"
   ]
  },
  {
   "cell_type": "code",
   "execution_count": 152,
   "id": "73bae3be-7cc6-42c9-918f-5968bb4e5ed7",
   "metadata": {},
   "outputs": [],
   "source": [
    "X= Binance.drop(columns=['Close','Open','High','Low','Symbol','Volume','Marketcap','Date'])\n",
    "y= Binance['Close']"
   ]
  },
  {
   "cell_type": "code",
   "execution_count": 153,
   "id": "7d409205-bf21-4dc0-995c-466d9dda678f",
   "metadata": {},
   "outputs": [],
   "source": [
    "from sklearn.model_selection import train_test_split\n",
    "\n",
    "X_train, X_test, y_train, y_test = train_test_split(X, y, test_size = 0.33, random_state = 42)"
   ]
  },
  {
   "cell_type": "markdown",
   "id": "05cfd71b-505d-4f6c-8288-41b0f7e5948b",
   "metadata": {},
   "source": [
    "### Regression"
   ]
  },
  {
   "cell_type": "markdown",
   "id": "5ab78913-7b01-4341-85d9-f04bbc1a317c",
   "metadata": {},
   "source": [
    "#### Decision Tree Regression"
   ]
  },
  {
   "cell_type": "code",
   "execution_count": 154,
   "id": "cdce3839-b28d-4615-b018-f088483ac65b",
   "metadata": {},
   "outputs": [
    {
     "name": "stdout",
     "output_type": "stream",
     "text": [
      "MSE: 7.149748337195943\n",
      "R Squared: 0.9963153563781363\n"
     ]
    }
   ],
   "source": [
    "from sklearn.tree import DecisionTreeRegressor\n",
    "\n",
    "tree_reg = DecisionTreeRegressor(min_samples_leaf=5,random_state=42)\n",
    "tree_reg.fit(X_train, y_train)\n",
    "\n",
    "y_train_pred = tree_reg.predict(X_train)\n",
    "\n",
    "print(\"MSE:\", metrics.mean_squared_error(y_train, y_train_pred, squared=False))\n",
    "print(\"R Squared:\", metrics.r2_score(y_train, y_train_pred))"
   ]
  },
  {
   "cell_type": "code",
   "execution_count": 155,
   "id": "56d8f8d8-93a7-4a58-a09d-f6536e77355a",
   "metadata": {},
   "outputs": [
    {
     "name": "stdout",
     "output_type": "stream",
     "text": [
      "Best model: {'max_depth': 8, 'min_samples_leaf': 2, 'min_samples_split': 6, 'splitter': 'random'}\n",
      "Best score: 0.992057\n",
      "Best test auc: 0.991897\n"
     ]
    }
   ],
   "source": [
    "param_grid = {\n",
    "    'splitter': ['best','random'],\n",
    "    'max_depth': [1,2,3,4,5,6,7,8,9],\n",
    "    'min_samples_split': [2,3,4,5,6],\n",
    "    'min_samples_leaf': [1,2,3,4,5,6]\n",
    "}\n",
    "dtr_gs = GridSearchCV(estimator=DecisionTreeRegressor() , param_grid=param_grid)\n",
    "\n",
    "dtr_gs.fit(X_train, y_train)\n",
    "\n",
    "dtr_gs_best = dtr_gs.best_estimator_\n",
    "dtr_gs_best.fit(X_train,y_train)\n",
    "\n",
    "print('Best model: %s' % str(dtr_gs.best_params_))\n",
    "print('Best score: %f' % dtr_gs.best_score_)\n",
    "print('Best test auc: %f' % dtr_gs_best.score(X_test,y_test))"
   ]
  },
  {
   "cell_type": "code",
   "execution_count": 156,
   "id": "b4b9f5fc-c187-42f2-a52d-99dfc7cb407d",
   "metadata": {},
   "outputs": [
    {
     "name": "stdout",
     "output_type": "stream",
     "text": [
      "MSE: 15.983893481006724\n",
      "R Squared: 0.9789613754615621\n",
      "RMSE: 3.9979861781910557\n"
     ]
    }
   ],
   "source": [
    "import math\n",
    "\n",
    "tree_reg = DecisionTreeRegressor(max_depth = 6, min_samples_leaf = 1, min_samples_split = 4, splitter = 'best')\n",
    "tree_reg.fit(X_train, y_train)\n",
    "\n",
    "y_test_pred = tree_reg.predict(X_test)\n",
    "\n",
    "MSE = metrics.mean_squared_error(y_test, y_test_pred, squared=False)\n",
    "\n",
    "RSquared = metrics.r2_score(y_test, y_test_pred)\n",
    "\n",
    "RMSE = math.sqrt(MSE)\n",
    "\n",
    "print(\"MSE:\",MSE)\n",
    "print(\"R Squared:\",RSquared)\n",
    "print(\"RMSE:\",RMSE)"
   ]
  },
  {
   "cell_type": "code",
   "execution_count": 157,
   "id": "657bc56d-4232-4859-adcb-28d9525a43cb",
   "metadata": {},
   "outputs": [
    {
     "data": {
      "text/plain": [
       "<matplotlib.legend.Legend at 0x7fd0fc092be0>"
      ]
     },
     "execution_count": 157,
     "metadata": {},
     "output_type": "execute_result"
    },
    {
     "data": {
      "image/png": "[encoded data removed]",
      "text/plain": [
       "<Figure size 432x432 with 1 Axes>"
      ]
     },
     "metadata": {
      "needs_background": "light"
     },
     "output_type": "display_data"
    }
   ],
   "source": [
    "fig, ax = plt.subplots(figsize=(6, 6))\n",
    "\n",
    "#mpl.rcParams['font.size'] = 5\n",
    "mpl.rcParams['axes.linewidth'] = 0\n",
    "\n",
    "ax.scatter(y_train_pred,y_train,color='blue', s=6, label = \"Train\")\n",
    "\n",
    "ax.scatter(y_test_pred,y_test,color='red', s=6, label = \"Test\")\n",
    "\n",
    "\n",
    "ax.set_xlabel(\"Predicted Values\", fontsize=10)\n",
    "ax.set_ylabel(\"True Values\", fontsize=10)\n",
    "ax.legend()"
   ]
  },
  {
   "cell_type": "markdown",
   "id": "aa300c1d-26dd-45b9-ab8b-f845f90e9871",
   "metadata": {},
   "source": [
    "#### Linear Regression"
   ]
  },
  {
   "cell_type": "code",
   "execution_count": 158,
   "id": "d207e63e-8d5e-444f-a3af-e1dbea4d0975",
   "metadata": {},
   "outputs": [
    {
     "name": "stdout",
     "output_type": "stream",
     "text": [
      "MSE: 13.588885137992545\n",
      "R Squared: 0.9847938298686543\n",
      "RMSE: 3.6863105048262748\n"
     ]
    }
   ],
   "source": [
    "from sklearn.linear_model import LinearRegression\n",
    "\n",
    "linear_reg = LinearRegression()\n",
    "linear_reg.fit(X_train, y_train)\n",
    "\n",
    "y_train_pred = linear_reg.predict(X_train)\n",
    "y_test_pred = linear_reg.predict(X_test)\n",
    "\n",
    "MSE = metrics.mean_squared_error(y_test, y_test_pred, squared=False)\n",
    "\n",
    "RSquared = metrics.r2_score(y_test, y_test_pred)\n",
    "\n",
    "RMSE = math.sqrt(MSE)\n",
    "\n",
    "print(\"MSE:\",MSE)\n",
    "print(\"R Squared:\",RSquared)\n",
    "print(\"RMSE:\",RMSE)"
   ]
  },
  {
   "cell_type": "code",
   "execution_count": 159,
   "id": "4a3a45a8-6e55-486e-b010-95c066fc293a",
   "metadata": {},
   "outputs": [
    {
     "data": {
      "text/plain": [
       "<matplotlib.legend.Legend at 0x7fd0fb24de80>"
      ]
     },
     "execution_count": 159,
     "metadata": {},
     "output_type": "execute_result"
    },
    {
     "data": {
      "image/png": "[encoded data removed]",
      "text/plain": [
       "<Figure size 432x432 with 1 Axes>"
      ]
     },
     "metadata": {
      "needs_background": "light"
     },
     "output_type": "display_data"
    }
   ],
   "source": [
    "fig, ax = plt.subplots(figsize=(6, 6))\n",
    "\n",
    "#mpl.rcParams['font.size'] = 5\n",
    "mpl.rcParams['axes.linewidth'] = 0\n",
    "\n",
    "ax.scatter(y_train_pred,y_train,color='blue', s=6, label = \"Train\")\n",
    "\n",
    "ax.scatter(y_test_pred,y_test,color='red', s=6, label = \"Test\")\n",
    "\n",
    "\n",
    "ax.set_xlabel(\"Predicted Values\", fontsize=10)\n",
    "ax.set_ylabel(\"True Values\", fontsize=10)\n",
    "ax.legend()"
   ]
  },
  {
   "cell_type": "markdown",
   "id": "68dd64da-ce72-40aa-b12a-cf8332594091",
   "metadata": {},
   "source": [
    "#### Bayesian Ridge"
   ]
  },
  {
   "cell_type": "code",
   "execution_count": 160,
   "id": "a291f286-dacd-45bd-a04b-119f3fe9bcf8",
   "metadata": {},
   "outputs": [
    {
     "name": "stdout",
     "output_type": "stream",
     "text": [
      "MSE: 13.569331845123628\n",
      "R Squared: 0.98483755925156\n",
      "RMSE: 3.683657400617439\n"
     ]
    }
   ],
   "source": [
    "from sklearn.linear_model  import BayesianRidge\n",
    "\n",
    "br_reg = BayesianRidge()\n",
    "\n",
    "br_reg .fit(X_train, y_train)\n",
    "\n",
    "y_train_pred = br_reg.predict(X_train)\n",
    "y_test_pred = br_reg.predict(X_test)\n",
    "\n",
    "MSE = metrics.mean_squared_error(y_test, y_test_pred, squared=False)\n",
    "\n",
    "RSquared = metrics.r2_score(y_test, y_test_pred)\n",
    "\n",
    "RMSE = math.sqrt(MSE)\n",
    "\n",
    "print(\"MSE:\",MSE)\n",
    "print(\"R Squared:\",RSquared)\n",
    "print(\"RMSE:\",RMSE)"
   ]
  },
  {
   "cell_type": "code",
   "execution_count": 161,
   "id": "00163867-f537-4be4-b59d-c6162072df40",
   "metadata": {},
   "outputs": [
    {
     "data": {
      "text/plain": [
       "<matplotlib.legend.Legend at 0x7fd0bc804520>"
      ]
     },
     "execution_count": 161,
     "metadata": {},
     "output_type": "execute_result"
    },
    {
     "data": {
      "image/png": "[encoded data removed]",
      "text/plain": [
       "<Figure size 432x432 with 1 Axes>"
      ]
     },
     "metadata": {
      "needs_background": "light"
     },
     "output_type": "display_data"
    }
   ],
   "source": [
    "fig, ax = plt.subplots(figsize=(6, 6))\n",
    "\n",
    "#mpl.rcParams['font.size'] = 5\n",
    "mpl.rcParams['axes.linewidth'] = 0\n",
    "\n",
    "ax.scatter(y_train_pred,y_train,color='blue', s=6, label = \"Train\")\n",
    "\n",
    "ax.scatter(y_test_pred,y_test,color='red', s=6, label = \"Test\")\n",
    "\n",
    "\n",
    "ax.set_xlabel(\"Predicted Values\", fontsize=10)\n",
    "ax.set_ylabel(\"True Values\", fontsize=10)\n",
    "ax.legend()"
   ]
  },
  {
   "cell_type": "markdown",
   "id": "59bf2bf5-3d32-4ef1-8fc5-bac989b252c8",
   "metadata": {},
   "source": [
    "## Time Series (ARIMA)"
   ]
  },
  {
   "cell_type": "code",
   "execution_count": 162,
   "id": "b0196fb6-7a37-4f8f-ab0c-70da5037aa58",
   "metadata": {},
   "outputs": [
    {
     "data": {
      "text/plain": [
       "[<matplotlib.lines.Line2D at 0x7fd0eab87940>]"
      ]
     },
     "execution_count": 162,
     "metadata": {},
     "output_type": "execute_result"
    },
    {
     "data": {
      "image/png": "[encoded data removed]",
      "text/plain": [
       "<Figure size 432x288 with 1 Axes>"
      ]
     },
     "metadata": {
      "needs_background": "light"
     },
     "output_type": "display_data"
    }
   ],
   "source": [
    "rollmean = Binance[\"Close\"].rolling(10).mean()\n",
    "plt.plot(rollmean)\n",
    "\n",
    "plt.plot(Binance[\"Close\"])\n",
    "\n",
    "plt.plot(Binance[\"Close\"].rolling(10).std()) #not stationary "
   ]
  },
  {
   "cell_type": "code",
   "execution_count": 163,
   "id": "6216a11a-ba34-439e-9103-7b061927eb07",
   "metadata": {},
   "outputs": [
    {
     "data": {
      "text/plain": [
       "(1442,)"
      ]
     },
     "execution_count": 163,
     "metadata": {},
     "output_type": "execute_result"
    }
   ],
   "source": [
    "Close_scaled = Binance['Close']\n",
    "\n",
    "Close_scaled = Close_scaled.array\n",
    "Close_scaled.shape"
   ]
  },
  {
   "cell_type": "code",
   "execution_count": 164,
   "id": "b79d9188-4f7e-4813-90be-875811542094",
   "metadata": {},
   "outputs": [],
   "source": [
    "Close_scaled = Close_scaled.reshape(-1,1)"
   ]
  },
  {
   "cell_type": "code",
   "execution_count": 165,
   "id": "dead076b-23ec-4b31-b8ab-6e9177727b7d",
   "metadata": {},
   "outputs": [],
   "source": [
    "from sklearn.preprocessing import MinMaxScaler\n",
    "\n",
    "scaler = MinMaxScaler().fit(Close_scaled)\n",
    "\n",
    "Close_scaled = scaler.transform(Close_scaled)\n",
    "\n",
    "Close_scaled = Close_scaled.reshape(1442,)"
   ]
  },
  {
   "cell_type": "code",
   "execution_count": 166,
   "id": "0c5bc700-27b4-4a61-a5fa-ee017c3ecd4d",
   "metadata": {},
   "outputs": [],
   "source": [
    "Close_scaled = pd.Series(Close_scaled)\n",
    "Binance['Close_scaled'] = Close_scaled"
   ]
  },
  {
   "cell_type": "code",
   "execution_count": 167,
   "id": "b426bb58-2e8f-490a-ba36-34612721898d",
   "metadata": {},
   "outputs": [
    {
     "name": "stdout",
     "output_type": "stream",
     "text": [
      "25\n",
      "1417\n"
     ]
    },
    {
     "data": {
      "text/plain": [
       "Date\n",
       "2017-07-26    0.000008\n",
       "2017-07-27    0.000012\n",
       "2017-07-28    0.000006\n",
       "2017-07-29    0.000012\n",
       "2017-07-30    0.000010\n",
       "                ...   \n",
       "2021-06-07    0.528743\n",
       "2021-06-08    0.523845\n",
       "2021-06-09    0.556015\n",
       "2021-06-10    0.521154\n",
       "2021-06-11    0.511903\n",
       "Name: Close_scaled, Length: 1417, dtype: float64"
      ]
     },
     "execution_count": 167,
     "metadata": {},
     "output_type": "execute_result"
    }
   ],
   "source": [
    "Data_Arima = Binance.set_index('Date')\n",
    "closeTrain = Data_Arima['Close_scaled'][:-25]\n",
    "closeTest = Data_Arima['Close_scaled'][-25:]\n",
    "print(len(closeTest))\n",
    "print(len(closeTrain))\n",
    "\n",
    "closeTrain"
   ]
  },
  {
   "cell_type": "code",
   "execution_count": 168,
   "id": "d7b57c8a-a733-41bb-9fac-e2ec31bbf550",
   "metadata": {},
   "outputs": [
    {
     "data": {
      "text/plain": [
       "(0.35544172177746247, True)"
      ]
     },
     "execution_count": 168,
     "metadata": {},
     "output_type": "execute_result"
    }
   ],
   "source": [
    "adf = pmd.arima.ADFTest(alpha = 0.05)\n",
    "adf.should_diff(Data_Arima['Close'])\n",
    "#data is already station"
   ]
  },
  {
   "cell_type": "code",
   "execution_count": 169,
   "id": "4b9843c0-346e-4efb-bd16-c59ccadb2241",
   "metadata": {},
   "outputs": [
    {
     "name": "stdout",
     "output_type": "stream",
     "text": [
      "25\n"
     ]
    }
   ],
   "source": [
    "model = pmd.arima.auto_arima(closeTrain, error_action='ignore', seasonal = True)\n",
    "model.fit(closeTrain)\n",
    "y_pred = model.predict(n_periods = len(closeTest))\n",
    "print(len(y_pred))\n",
    "Y_pred = pd.DataFrame(y_pred , index = closeTest.index , columns = [\"Pred\"]) "
   ]
  },
  {
   "cell_type": "code",
   "execution_count": 195,
   "id": "d51e1160-d5f8-4100-b5a7-1fb449ebe6c2",
   "metadata": {},
   "outputs": [
    {
     "data": {
      "text/plain": [
       "<matplotlib.legend.Legend at 0x7fd0eb29da60>"
      ]
     },
     "execution_count": 195,
     "metadata": {},
     "output_type": "execute_result"
    },
    {
     "data": {
      "text/plain": [
       "<Figure size 432x288 with 0 Axes>"
      ]
     },
     "metadata": {},
     "output_type": "display_data"
    },
    {
     "data": {
      "image/png": "[encoded data removed]",
      "text/plain": [
       "<Figure size 576x360 with 1 Axes>"
      ]
     },
     "metadata": {
      "needs_background": "light"
     },
     "output_type": "display_data"
    }
   ],
   "source": [
    "fig = plt.figure()\n",
    "fig, ax = plt.subplots(figsize = (8,5))\n",
    "\n",
    "ax.plot(closeTrain , label = \"trainig\")\n",
    "ax.plot(closeTest, label = \"testing\")\n",
    "ax.plot(Y_pred, label = \"prediction\")\n",
    "ax.set_xlabel('Year')\n",
    "ax.set_ylabel('Closing Price')\n",
    "ax.set_title(\"Binance ARIMA Prediction\")\n",
    "ax.legend()"
   ]
  },
  {
   "cell_type": "code",
   "execution_count": 171,
   "id": "414aa5c0-24fa-4cb9-b18d-f5147a9fb66d",
   "metadata": {},
   "outputs": [
    {
     "name": "stdout",
     "output_type": "stream",
     "text": [
      "MSE: 0.06878829202849862\n",
      "R Squared: -1.1603223621108847\n",
      "RMSE: 0.26227522191106545\n"
     ]
    }
   ],
   "source": [
    "MSE = metrics.mean_squared_error(closeTest, Y_pred, squared=False)\n",
    "\n",
    "RSquared = metrics.r2_score(closeTest, Y_pred)\n",
    "\n",
    "RMSE = math.sqrt(MSE)\n",
    "\n",
    "print(\"MSE:\",MSE)\n",
    "print(\"R Squared:\",RSquared)\n",
    "print(\"RMSE:\",RMSE)"
   ]
  }
 ],
 "metadata": {
  "kernelspec": {
   "display_name": "Python 3 (ipykernel)",
   "language": "python",
   "name": "python3"
  },
  "language_info": {
   "codemirror_mode": {
    "name": "ipython",
    "version": 3
   },
   "file_extension": ".py",
   "mimetype": "text/x-python",
   "name": "python",
   "nbconvert_exporter": "python",
   "pygments_lexer": "ipython3",
   "version": "3.9.7"
  }
 },
 "nbformat": 4,
 "nbformat_minor": 5
}
